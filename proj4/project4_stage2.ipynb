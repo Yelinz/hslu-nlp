{
 "cells": [
  {
   "cell_type": "markdown",
   "metadata": {
    "id": "scjRLLZoi22p"
   },
   "source": [
    "# Project 4: Pretrained Transformer BoolQ\n",
    "\n",
    "The documentation is split into small chunks following the suggestion in class and from feedback for previous projects."
   ]
  },
  {
   "cell_type": "markdown",
   "metadata": {
    "id": "H7ftm-axi22r"
   },
   "source": [
    "# Introduction\n",
    "\n",
    "Classification of BoolQ with a pretrained transformer encoder.\n",
    "\n",
    "The chosen pretrained transformer encoder is `DEBERTA-v3`. An improved version to the original `BERT` and other successor versions.\n",
    "\n",
    "Preprocessing of the dataset is left to the implemented `DEBERTA-v2` tokenizer, which is compative with the v3 model.\n",
    "\n",
    "A customized classification head is added to the pre trained model for the classification task. It consists of 2 linear layers with a relu in between.\n",
    "The loss function is BCE with logit loss, meaning it takes logits as input before processing with a sigmoid layer.\n",
    "\n",
    "Experiments were made with a large range of learning rates from potentially 1 to 1-e10. But because of long training times only 7 runs were completed\n",
    "\n",
    "The best performing model was made with a learning rate of: 0.12\n",
    "\n",
    "With following performances on the test dataset:\n",
    "- Accuracy: 0.6218\n",
    "- Loss: 0.6809\n",
    "\n",
    "This is same as the ratio of the label inbalance. The model managed to only predict true labels. The reason why that happend is unclear.\n",
    "\n",
    "W&B Link: https://wandb.ai/yelin-zhang-hslu/nlp-project-4?nw=cx31ikbpeen"
   ]
  },
  {
   "cell_type": "markdown",
   "metadata": {
    "id": "PVGsymTXi22s"
   },
   "source": [
    "# Setup\n",
    "Preliminary steps for setting getting the project running.\n",
    "\n",
    "## Tools used\n",
    "- GPUHub JupyterLab\n",
    "- No AI tools used, as they do not help with reading API documentation and GitHub issues\n",
    "- Previous projects documentation"
   ]
  },
  {
   "cell_type": "code",
   "execution_count": null,
   "metadata": {
    "colab": {
     "base_uri": "https://localhost:8080/"
    },
    "id": "gWEjEPQxi22s",
    "outputId": "e6d13e8c-6d06-4419-ae4b-730cb1d13c4c",
    "scrolled": true
   },
   "outputs": [
    {
     "name": "stdout",
     "output_type": "stream",
     "text": [
      "Collecting lightning==2.4.0\n",
      "  Using cached lightning-2.4.0-py3-none-any.whl.metadata (38 kB)\n",
      "Requirement already satisfied: torch==2.3.1 in /opt/conda/lib/python3.11/site-packages (2.3.1+cu121)\n",
      "Collecting torchmetrics==1.6.0\n",
      "  Using cached torchmetrics-1.6.0-py3-none-any.whl.metadata (20 kB)\n",
      "Collecting huggingface_hub==0.26.2\n",
      "  Using cached huggingface_hub-0.26.2-py3-none-any.whl.metadata (13 kB)\n",
      "Collecting transformers==4.46.2 (from transformers[torch]==4.46.2)\n",
      "  Using cached transformers-4.46.2-py3-none-any.whl.metadata (44 kB)\n",
      "Collecting sentencepiece\n",
      "  Using cached sentencepiece-0.2.0-cp311-cp311-manylinux_2_17_x86_64.manylinux2014_x86_64.whl.metadata (7.7 kB)\n",
      "Collecting datasets==3.0.1\n",
      "  Using cached datasets-3.0.1-py3-none-any.whl.metadata (20 kB)\n",
      "Collecting wandb==0.18.7\n",
      "  Using cached wandb-0.18.7-py3-none-manylinux_2_17_x86_64.manylinux2014_x86_64.whl.metadata (9.7 kB)\n",
      "Requirement already satisfied: numpy==1.26.4 in /opt/conda/lib/python3.11/site-packages (1.26.4)\n",
      "Collecting scikit-learn==1.5.2\n",
      "  Using cached scikit_learn-1.5.2-cp311-cp311-manylinux_2_17_x86_64.manylinux2014_x86_64.whl.metadata (13 kB)\n",
      "Collecting ruff==0.7.4\n",
      "  Using cached ruff-0.7.4-py3-none-manylinux_2_17_x86_64.manylinux2014_x86_64.whl.metadata (25 kB)\n",
      "Requirement already satisfied: PyYAML<8.0,>=5.4 in /opt/conda/lib/python3.11/site-packages (from lightning==2.4.0) (6.0.1)\n",
      "Requirement already satisfied: fsspec<2026.0,>=2022.5.0 in /opt/conda/lib/python3.11/site-packages (from fsspec[http]<2026.0,>=2022.5.0->lightning==2.4.0) (2024.6.1)\n",
      "Collecting lightning-utilities<2.0,>=0.10.0 (from lightning==2.4.0)\n",
      "  Using cached lightning_utilities-0.11.9-py3-none-any.whl.metadata (5.2 kB)\n",
      "Requirement already satisfied: packaging<25.0,>=20.0 in /opt/conda/lib/python3.11/site-packages (from lightning==2.4.0) (24.1)\n",
      "Requirement already satisfied: tqdm<6.0,>=4.57.0 in /opt/conda/lib/python3.11/site-packages (from lightning==2.4.0) (4.66.4)\n",
      "Requirement already satisfied: typing-extensions<6.0,>=4.4.0 in /opt/conda/lib/python3.11/site-packages (from lightning==2.4.0) (4.12.2)\n",
      "Collecting pytorch-lightning (from lightning==2.4.0)\n",
      "  Using cached pytorch_lightning-2.4.0-py3-none-any.whl.metadata (21 kB)\n",
      "Requirement already satisfied: filelock in /opt/conda/lib/python3.11/site-packages (from torch==2.3.1) (3.13.1)\n",
      "Requirement already satisfied: sympy in /opt/conda/lib/python3.11/site-packages (from torch==2.3.1) (1.13.0)\n",
      "Requirement already satisfied: networkx in /opt/conda/lib/python3.11/site-packages (from torch==2.3.1) (3.3)\n",
      "Requirement already satisfied: jinja2 in /opt/conda/lib/python3.11/site-packages (from torch==2.3.1) (3.1.4)\n",
      "Requirement already satisfied: nvidia-cuda-nvrtc-cu12==12.1.105 in /opt/conda/lib/python3.11/site-packages (from torch==2.3.1) (12.1.105)\n",
      "Requirement already satisfied: nvidia-cuda-runtime-cu12==12.1.105 in /opt/conda/lib/python3.11/site-packages (from torch==2.3.1) (12.1.105)\n",
      "Requirement already satisfied: nvidia-cuda-cupti-cu12==12.1.105 in /opt/conda/lib/python3.11/site-packages (from torch==2.3.1) (12.1.105)\n",
      "Requirement already satisfied: nvidia-cudnn-cu12==8.9.2.26 in /opt/conda/lib/python3.11/site-packages (from torch==2.3.1) (8.9.2.26)\n",
      "Requirement already satisfied: nvidia-cublas-cu12==12.1.3.1 in /opt/conda/lib/python3.11/site-packages (from torch==2.3.1) (12.1.3.1)\n",
      "Requirement already satisfied: nvidia-cufft-cu12==11.0.2.54 in /opt/conda/lib/python3.11/site-packages (from torch==2.3.1) (11.0.2.54)\n",
      "Requirement already satisfied: nvidia-curand-cu12==10.3.2.106 in /opt/conda/lib/python3.11/site-packages (from torch==2.3.1) (10.3.2.106)\n",
      "Requirement already satisfied: nvidia-cusolver-cu12==11.4.5.107 in /opt/conda/lib/python3.11/site-packages (from torch==2.3.1) (11.4.5.107)\n",
      "Requirement already satisfied: nvidia-cusparse-cu12==12.1.0.106 in /opt/conda/lib/python3.11/site-packages (from torch==2.3.1) (12.1.0.106)\n",
      "Requirement already satisfied: nvidia-nccl-cu12==2.20.5 in /opt/conda/lib/python3.11/site-packages (from torch==2.3.1) (2.20.5)\n",
      "Requirement already satisfied: nvidia-nvtx-cu12==12.1.105 in /opt/conda/lib/python3.11/site-packages (from torch==2.3.1) (12.1.105)\n",
      "Requirement already satisfied: triton==2.3.1 in /opt/conda/lib/python3.11/site-packages (from torch==2.3.1) (2.3.1)\n",
      "Requirement already satisfied: requests in /opt/conda/lib/python3.11/site-packages (from huggingface_hub==0.26.2) (2.32.3)\n",
      "Collecting regex!=2019.12.17 (from transformers==4.46.2->transformers[torch]==4.46.2)\n",
      "  Using cached regex-2024.11.6-cp311-cp311-manylinux_2_17_x86_64.manylinux2014_x86_64.whl.metadata (40 kB)\n",
      "Collecting safetensors>=0.4.1 (from transformers==4.46.2->transformers[torch]==4.46.2)\n",
      "  Using cached safetensors-0.4.5-cp311-cp311-manylinux_2_17_x86_64.manylinux2014_x86_64.whl.metadata (3.8 kB)\n",
      "Collecting tokenizers<0.21,>=0.20 (from transformers==4.46.2->transformers[torch]==4.46.2)\n",
      "  Using cached tokenizers-0.20.3-cp311-cp311-manylinux_2_17_x86_64.manylinux2014_x86_64.whl.metadata (6.7 kB)\n",
      "Requirement already satisfied: pyarrow>=15.0.0 in /opt/conda/lib/python3.11/site-packages (from datasets==3.0.1) (16.1.0)\n",
      "Requirement already satisfied: dill<0.3.9,>=0.3.0 in /opt/conda/lib/python3.11/site-packages (from datasets==3.0.1) (0.3.8)\n",
      "Requirement already satisfied: pandas in /opt/conda/lib/python3.11/site-packages (from datasets==3.0.1) (2.2.2)\n",
      "Collecting xxhash (from datasets==3.0.1)\n",
      "  Using cached xxhash-3.5.0-cp311-cp311-manylinux_2_17_x86_64.manylinux2014_x86_64.whl.metadata (12 kB)\n",
      "Collecting multiprocess (from datasets==3.0.1)\n",
      "  Using cached multiprocess-0.70.17-py311-none-any.whl.metadata (7.2 kB)\n",
      "Collecting aiohttp (from datasets==3.0.1)\n",
      "  Using cached aiohttp-3.11.7-cp311-cp311-manylinux_2_17_x86_64.manylinux2014_x86_64.whl.metadata (7.7 kB)\n",
      "Requirement already satisfied: click!=8.0.0,>=7.1 in /opt/conda/lib/python3.11/site-packages (from wandb==0.18.7) (8.1.7)\n",
      "Collecting docker-pycreds>=0.4.0 (from wandb==0.18.7)\n",
      "  Using cached docker_pycreds-0.4.0-py2.py3-none-any.whl.metadata (1.8 kB)\n",
      "Requirement already satisfied: gitpython!=3.1.29,>=1.0.0 in /opt/conda/lib/python3.11/site-packages (from wandb==0.18.7) (3.1.43)\n",
      "Requirement already satisfied: platformdirs in /opt/conda/lib/python3.11/site-packages (from wandb==0.18.7) (4.2.2)\n",
      "Requirement already satisfied: protobuf!=4.21.0,!=5.28.0,<6,>=3.19.0 in /opt/conda/lib/python3.11/site-packages (from wandb==0.18.7) (4.25.3)\n",
      "Requirement already satisfied: psutil>=5.0.0 in /opt/conda/lib/python3.11/site-packages (from wandb==0.18.7) (6.0.0)\n",
      "Collecting sentry-sdk>=2.0.0 (from wandb==0.18.7)\n",
      "  Using cached sentry_sdk-2.19.0-py2.py3-none-any.whl.metadata (9.9 kB)\n",
      "Collecting setproctitle (from wandb==0.18.7)\n",
      "  Using cached setproctitle-1.3.4-cp311-cp311-manylinux_2_5_x86_64.manylinux1_x86_64.manylinux_2_17_x86_64.manylinux2014_x86_64.whl.metadata (10 kB)\n",
      "Requirement already satisfied: setuptools in /opt/conda/lib/python3.11/site-packages (from wandb==0.18.7) (71.0.4)\n",
      "Requirement already satisfied: scipy>=1.6.0 in /opt/conda/lib/python3.11/site-packages (from scikit-learn==1.5.2) (1.14.0)\n",
      "Requirement already satisfied: joblib>=1.2.0 in /opt/conda/lib/python3.11/site-packages (from scikit-learn==1.5.2) (1.4.2)\n",
      "Requirement already satisfied: threadpoolctl>=3.1.0 in /opt/conda/lib/python3.11/site-packages (from scikit-learn==1.5.2) (3.5.0)\n",
      "Collecting accelerate>=0.26.0 (from transformers[torch]==4.46.2)\n",
      "  Using cached accelerate-1.1.1-py3-none-any.whl.metadata (19 kB)\n",
      "Requirement already satisfied: nvidia-nvjitlink-cu12 in /opt/conda/lib/python3.11/site-packages (from nvidia-cusolver-cu12==11.4.5.107->torch==2.3.1) (12.5.82)\n",
      "Requirement already satisfied: six>=1.4.0 in /opt/conda/lib/python3.11/site-packages (from docker-pycreds>=0.4.0->wandb==0.18.7) (1.16.0)\n",
      "Collecting aiohappyeyeballs>=2.3.0 (from aiohttp->datasets==3.0.1)\n",
      "  Using cached aiohappyeyeballs-2.4.3-py3-none-any.whl.metadata (6.1 kB)\n",
      "Collecting aiosignal>=1.1.2 (from aiohttp->datasets==3.0.1)\n",
      "  Using cached aiosignal-1.3.1-py3-none-any.whl.metadata (4.0 kB)\n",
      "Requirement already satisfied: attrs>=17.3.0 in /opt/conda/lib/python3.11/site-packages (from aiohttp->datasets==3.0.1) (23.2.0)\n",
      "Collecting frozenlist>=1.1.1 (from aiohttp->datasets==3.0.1)\n",
      "  Using cached frozenlist-1.5.0-cp311-cp311-manylinux_2_5_x86_64.manylinux1_x86_64.manylinux_2_17_x86_64.manylinux2014_x86_64.whl.metadata (13 kB)\n",
      "Collecting multidict<7.0,>=4.5 (from aiohttp->datasets==3.0.1)\n",
      "  Using cached multidict-6.1.0-cp311-cp311-manylinux_2_17_x86_64.manylinux2014_x86_64.whl.metadata (5.0 kB)\n",
      "Collecting propcache>=0.2.0 (from aiohttp->datasets==3.0.1)\n",
      "  Using cached propcache-0.2.0-cp311-cp311-manylinux_2_17_x86_64.manylinux2014_x86_64.whl.metadata (7.7 kB)\n",
      "Collecting yarl<2.0,>=1.17.0 (from aiohttp->datasets==3.0.1)\n",
      "  Using cached yarl-1.18.0-cp311-cp311-manylinux_2_17_x86_64.manylinux2014_x86_64.whl.metadata (67 kB)\n",
      "Requirement already satisfied: gitdb<5,>=4.0.1 in /opt/conda/lib/python3.11/site-packages (from gitpython!=3.1.29,>=1.0.0->wandb==0.18.7) (4.0.11)\n",
      "Requirement already satisfied: charset-normalizer<4,>=2 in /opt/conda/lib/python3.11/site-packages (from requests->huggingface_hub==0.26.2) (3.3.2)\n",
      "Requirement already satisfied: idna<4,>=2.5 in /opt/conda/lib/python3.11/site-packages (from requests->huggingface_hub==0.26.2) (3.7)\n",
      "Requirement already satisfied: urllib3<3,>=1.21.1 in /opt/conda/lib/python3.11/site-packages (from requests->huggingface_hub==0.26.2) (2.2.2)\n",
      "Requirement already satisfied: certifi>=2017.4.17 in /opt/conda/lib/python3.11/site-packages (from requests->huggingface_hub==0.26.2) (2024.7.4)\n",
      "Requirement already satisfied: MarkupSafe>=2.0 in /opt/conda/lib/python3.11/site-packages (from jinja2->torch==2.3.1) (2.1.5)\n",
      "INFO: pip is looking at multiple versions of multiprocess to determine which version is compatible with other requirements. This could take a while.\n",
      "Collecting multiprocess (from datasets==3.0.1)\n",
      "  Using cached multiprocess-0.70.16-py311-none-any.whl.metadata (7.2 kB)\n",
      "Requirement already satisfied: python-dateutil>=2.8.2 in /opt/conda/lib/python3.11/site-packages (from pandas->datasets==3.0.1) (2.9.0)\n",
      "Requirement already satisfied: pytz>=2020.1 in /opt/conda/lib/python3.11/site-packages (from pandas->datasets==3.0.1) (2024.1)\n",
      "Requirement already satisfied: tzdata>=2022.7 in /opt/conda/lib/python3.11/site-packages (from pandas->datasets==3.0.1) (2024.1)\n",
      "Requirement already satisfied: mpmath<1.4,>=1.1.0 in /opt/conda/lib/python3.11/site-packages (from sympy->torch==2.3.1) (1.3.0)\n",
      "Requirement already satisfied: smmap<6,>=3.0.1 in /opt/conda/lib/python3.11/site-packages (from gitdb<5,>=4.0.1->gitpython!=3.1.29,>=1.0.0->wandb==0.18.7) (5.0.0)\n",
      "Using cached lightning-2.4.0-py3-none-any.whl (810 kB)\n",
      "Using cached torchmetrics-1.6.0-py3-none-any.whl (926 kB)\n",
      "Using cached huggingface_hub-0.26.2-py3-none-any.whl (447 kB)\n",
      "Using cached transformers-4.46.2-py3-none-any.whl (10.0 MB)\n",
      "Using cached datasets-3.0.1-py3-none-any.whl (471 kB)\n",
      "Using cached wandb-0.18.7-py3-none-manylinux_2_17_x86_64.manylinux2014_x86_64.whl (16.1 MB)\n",
      "Using cached scikit_learn-1.5.2-cp311-cp311-manylinux_2_17_x86_64.manylinux2014_x86_64.whl (13.3 MB)\n",
      "Using cached ruff-0.7.4-py3-none-manylinux_2_17_x86_64.manylinux2014_x86_64.whl (11.1 MB)\n",
      "Using cached sentencepiece-0.2.0-cp311-cp311-manylinux_2_17_x86_64.manylinux2014_x86_64.whl (1.3 MB)\n",
      "Using cached accelerate-1.1.1-py3-none-any.whl (333 kB)\n",
      "Using cached docker_pycreds-0.4.0-py2.py3-none-any.whl (9.0 kB)\n",
      "Using cached aiohttp-3.11.7-cp311-cp311-manylinux_2_17_x86_64.manylinux2014_x86_64.whl (1.7 MB)\n",
      "Using cached lightning_utilities-0.11.9-py3-none-any.whl (28 kB)\n",
      "Using cached regex-2024.11.6-cp311-cp311-manylinux_2_17_x86_64.manylinux2014_x86_64.whl (792 kB)\n",
      "Using cached safetensors-0.4.5-cp311-cp311-manylinux_2_17_x86_64.manylinux2014_x86_64.whl (435 kB)\n",
      "Using cached sentry_sdk-2.19.0-py2.py3-none-any.whl (322 kB)\n",
      "Using cached tokenizers-0.20.3-cp311-cp311-manylinux_2_17_x86_64.manylinux2014_x86_64.whl (3.0 MB)\n",
      "Using cached multiprocess-0.70.16-py311-none-any.whl (143 kB)\n",
      "Using cached pytorch_lightning-2.4.0-py3-none-any.whl (815 kB)\n",
      "Using cached setproctitle-1.3.4-cp311-cp311-manylinux_2_5_x86_64.manylinux1_x86_64.manylinux_2_17_x86_64.manylinux2014_x86_64.whl (31 kB)\n",
      "Using cached xxhash-3.5.0-cp311-cp311-manylinux_2_17_x86_64.manylinux2014_x86_64.whl (194 kB)\n",
      "Using cached aiohappyeyeballs-2.4.3-py3-none-any.whl (14 kB)\n",
      "Using cached aiosignal-1.3.1-py3-none-any.whl (7.6 kB)\n",
      "Using cached frozenlist-1.5.0-cp311-cp311-manylinux_2_5_x86_64.manylinux1_x86_64.manylinux_2_17_x86_64.manylinux2014_x86_64.whl (274 kB)\n",
      "Using cached multidict-6.1.0-cp311-cp311-manylinux_2_17_x86_64.manylinux2014_x86_64.whl (129 kB)\n",
      "Using cached propcache-0.2.0-cp311-cp311-manylinux_2_17_x86_64.manylinux2014_x86_64.whl (236 kB)\n",
      "Using cached yarl-1.18.0-cp311-cp311-manylinux_2_17_x86_64.manylinux2014_x86_64.whl (343 kB)\n",
      "Installing collected packages: sentencepiece, xxhash, setproctitle, sentry-sdk, safetensors, ruff, regex, propcache, multiprocess, multidict, lightning-utilities, frozenlist, docker-pycreds, aiohappyeyeballs, yarl, scikit-learn, huggingface_hub, aiosignal, wandb, tokenizers, aiohttp, transformers, torchmetrics, accelerate, pytorch-lightning, datasets, lightning\n",
      "  Attempting uninstall: scikit-learn\n",
      "    Found existing installation: scikit-learn 1.5.1\n",
      "    Uninstalling scikit-learn-1.5.1:\n",
      "      Successfully uninstalled scikit-learn-1.5.1\n",
      "Successfully installed accelerate-1.1.1 aiohappyeyeballs-2.4.3 aiohttp-3.11.7 aiosignal-1.3.1 datasets-3.0.1 docker-pycreds-0.4.0 frozenlist-1.5.0 huggingface_hub-0.26.2 lightning-2.4.0 lightning-utilities-0.11.9 multidict-6.1.0 multiprocess-0.70.16 propcache-0.2.0 pytorch-lightning-2.4.0 regex-2024.11.6 ruff-0.7.4 safetensors-0.4.5 scikit-learn-1.5.2 sentencepiece-0.2.0 sentry-sdk-2.19.0 setproctitle-1.3.4 tokenizers-0.20.3 torchmetrics-1.6.0 transformers-4.46.2 wandb-0.18.7 xxhash-3.5.0 yarl-1.18.0\n",
      "Note: you may need to restart the kernel to use updated packages.\n"
     ]
    }
   ],
   "source": [
    "%pip install lightning==2.4.0 torch==2.3.1 torchmetrics==1.6.0 huggingface_hub==0.26.2 transformers[torch]==4.46.2 sentencepiece==0.2.0 datasets==3.0.1 wandb==0.18.7 numpy==1.26.4 scikit-learn==1.5.2 ruff==0.7.4"
   ]
  },
  {
   "cell_type": "markdown",
   "metadata": {
    "id": "N66yxsf6i22t"
   },
   "source": [
    "## Dependencies\n",
    "The notebook was created with:\n",
    "Python 3.11.9\n",
    "\n",
    "Install all necessary dependencies\n",
    "- Pytorch: `torch lightning torchmetrics`\n",
    "- Hugging Face: `huggingface_hub transformers datasets sentencepiece`\n",
    "- Weights & Biases: `wandb`\n",
    "- numpy: `numpy`\n",
    "- scikit-learn: `scikit-learn`\n",
    "- Lint and Formatting: `ruff`\n",
    "\n",
    "Versions of dependencies are pinned for reproducibility."
   ]
  },
  {
   "cell_type": "markdown",
   "metadata": {
    "id": "UkN9tOYqi22t"
   },
   "source": [
    "## Notebook setup\n",
    "Import all necessary libraries."
   ]
  },
  {
   "cell_type": "code",
   "execution_count": 1,
   "metadata": {
    "id": "tMeIO2yoi22u"
   },
   "outputs": [],
   "source": [
    "import os\n",
    "from transformers import (\n",
    "    AutoTokenizer,\n",
    "    AutoModelForSequenceClassification,\n",
    ")\n",
    "import torch\n",
    "import numpy as np\n",
    "from datasets import Value\n",
    "from datasets import load_dataset\n",
    "from lightning.pytorch.loggers import WandbLogger\n",
    "import wandb\n",
    "import torchmetrics\n",
    "import sklearn\n",
    "from pathlib import Path\n",
    "import lightning as L"
   ]
  },
  {
   "cell_type": "markdown",
   "metadata": {
    "id": "PxPIatMRi22v"
   },
   "source": [
    "Log into Hugging Face and Weights & Biases."
   ]
  },
  {
   "cell_type": "code",
   "execution_count": 2,
   "metadata": {
    "colab": {
     "base_uri": "https://localhost:8080/"
    },
    "id": "_9sNXTuLi22x",
    "outputId": "7c9cb847-a29f-4658-d703-fe83adb7a030"
   },
   "outputs": [
    {
     "name": "stderr",
     "output_type": "stream",
     "text": [
      "\u001b[34m\u001b[1mwandb\u001b[0m: \u001b[33mWARNING\u001b[0m WANDB_NOTEBOOK_NAME should be a path to a notebook file, couldn't find ./project4-stage2.ipynb.\n",
      "\u001b[34m\u001b[1mwandb\u001b[0m: Using wandb-core as the SDK backend.  Please refer to https://wandb.me/wandb-core for more information.\n",
      "\u001b[34m\u001b[1mwandb\u001b[0m: Currently logged in as: \u001b[33myelin-zhang\u001b[0m (\u001b[33myelin-zhang-hslu\u001b[0m). Use \u001b[1m`wandb login --relogin`\u001b[0m to force relogin\n"
     ]
    },
    {
     "data": {
      "text/plain": [
       "True"
      ]
     },
     "execution_count": 2,
     "metadata": {},
     "output_type": "execute_result"
    }
   ],
   "source": [
    "WANDB_PROJECT = \"nlp-project-4\"\n",
    "os.environ[\"WANDB_PROJECT\"] = WANDB_PROJECT\n",
    "os.environ[\"WANDB_NOTEBOOK_NAME\"] = \"./project4-stage2.ipynb\"\n",
    "wandb.login()"
   ]
  },
  {
   "cell_type": "markdown",
   "metadata": {
    "id": "umfp1EdIlic_"
   },
   "source": [
    "Define constants which are used later"
   ]
  },
  {
   "cell_type": "code",
   "execution_count": 3,
   "metadata": {
    "id": "1BMZ5tbqlhZd"
   },
   "outputs": [],
   "source": [
    "MODEL = \"microsoft/deberta-v3-small\"\n",
    "BATCH_SIZE = 8"
   ]
  },
  {
   "cell_type": "markdown",
   "metadata": {
    "id": "pvbxolP8i22x"
   },
   "source": [
    "# Preprocessing\n",
    "\n",
    "Predefined requirements:\n",
    "- Download the BoolQ dataset with `datasets` and split it in the predefined way.\n",
    "- Train / Validation / Test split\n",
    "\n",
    "Used features:\n",
    "- `question` and `passage` as input to the model\n",
    "- `answer` as label\n",
    "\n",
    "Input format:\n",
    "- concatenated `question` and `passage` strings\n",
    "- with a special seperator token from the model vocabulary in the middle to differentiate between them\n",
    "- question before passage because to be able to answer the question it first hast to be known\n",
    "\n",
    "Label format:\n",
    "- convert `answer` boolean to 1 or 0\n",
    "- Model output is probability of 1\n",
    "\n",
    "Batch size: ~~64 for faster training than with individual samples~~ 8 as more did not fit into memory\n",
    "\n",
    "A lot of preprocessing steps are not needed, because the predefined tokenizer for the model does most of the work. The input format is the raw text without any changes.\n",
    "The tokenizer does not do any stemming, stopword removal, lower casing, format cleaning. For unknown words a special token `[UNK]` is used.\n",
    "\n",
    "## Correctness tests\n",
    "- Check processed passages and questions if they still make sense\n",
    "- Check if `[SEP]` has been tokenized correctly"
   ]
  },
  {
   "cell_type": "markdown",
   "metadata": {
    "id": "5QT-GssYi22y"
   },
   "source": [
    "Download and split dataset in predefined way"
   ]
  },
  {
   "cell_type": "code",
   "execution_count": 4,
   "metadata": {
    "colab": {
     "base_uri": "https://localhost:8080/"
    },
    "id": "IJ80VfXci22z",
    "outputId": "573af6cc-18ce-4d23-91da-31f98dd4d756"
   },
   "outputs": [
    {
     "name": "stdout",
     "output_type": "stream",
     "text": [
      "8427 1000 3270\n"
     ]
    }
   ],
   "source": [
    "train_raw = load_dataset(\"google/boolq\", split=\"train[:-1000]\")\n",
    "valid_raw = load_dataset(\"google/boolq\", split=\"train[-1000:]\")\n",
    "test_raw = load_dataset(\"google/boolq\", split=\"validation\")\n",
    "\n",
    "print(len(train_raw), len(valid_raw), len(test_raw))"
   ]
  },
  {
   "cell_type": "markdown",
   "metadata": {
    "id": "kBNIisAui220"
   },
   "source": [
    "Convert answer boolean to 1 or 0, because the model output is a probability of 1."
   ]
  },
  {
   "cell_type": "code",
   "execution_count": 5,
   "metadata": {
    "id": "Kj7QJqNDi221"
   },
   "outputs": [],
   "source": [
    "train_casted = train_raw.cast_column(\"answer\", Value(\"float32\"))\n",
    "valid_casted = valid_raw.cast_column(\"answer\", Value(\"float32\"))\n",
    "test_casted = test_raw.cast_column(\"answer\", Value(\"float32\"))"
   ]
  },
  {
   "cell_type": "markdown",
   "metadata": {
    "id": "YGjb1Aoki220"
   },
   "source": [
    "- Concat `question` and `passage` into `query`\n",
    "    - Add special seperator token `[SEP]` between them to distinguish both texts from another\n",
    "- Tokenize sentence with `DeBERTAV2Tokenizer`\n",
    "    - It handles the tokenization of the text with `SentencePiece` and the conversion to word vectors as well.\n",
    "    - `SentencePiece` is a subword tokenizer, which learns how to split the text into subwords based on the pretrain dataset\n",
    "    - Padding to the maximum input length of each batch is done by the `DataCollatorWithPadding` later\n",
    "    - Truncation should not be needed, as the maximum input length is quite large (over the usual 512)"
   ]
  },
  {
   "cell_type": "code",
   "execution_count": 6,
   "metadata": {
    "id": "dL3B0dH9i221"
   },
   "outputs": [],
   "source": [
    "tokenizer = AutoTokenizer.from_pretrained(MODEL, use_fast=False)\n",
    "\n",
    "\n",
    "def preprocess_dataset(row):\n",
    "    query = row[\"question\"] + \"[SEP]\" + row[\"passage\"]\n",
    "    tokenized = tokenizer(query)\n",
    "    tokenized[\"labels\"] = row[\"answer\"]\n",
    "    return tokenized\n",
    "\n",
    "\n",
    "train_concatenated = train_casted.map(preprocess_dataset)\n",
    "valid_concatenated = valid_casted.map(preprocess_dataset)\n",
    "test_concatenated = test_casted.map(preprocess_dataset)"
   ]
  },
  {
   "cell_type": "markdown",
   "metadata": {
    "id": "GqI4hs_6nvw-"
   },
   "source": [
    "Check if the text has been tokenized correctly"
   ]
  },
  {
   "cell_type": "code",
   "execution_count": 8,
   "metadata": {
    "id": "AMSSFyydnvnn"
   },
   "outputs": [
    {
     "data": {
      "text/plain": [
       "'[CLS] do iran and afghanistan speak the same language[SEP] Persian (/ˈpɜːrʒən, -ʃən/), also known by its endonym Farsi (فارسی fārsi (fɒːɾˈsiː) ( listen)), is one of the Western Iranian languages within the Indo-Iranian branch of the Indo-European language family. It is primarily spoken in Iran, Afghanistan (officially known as Dari since 1958), and Tajikistan (officially known as Tajiki since the Soviet era), and some other regions which historically were Persianate societies and considered part of Greater Iran. It is written in the Persian alphabet, a modified variant of the Arabic script, which itself evolved from the Aramaic alphabet.[SEP]'"
      ]
     },
     "execution_count": 8,
     "metadata": {},
     "output_type": "execute_result"
    }
   ],
   "source": [
    "tokenizer.decode(train_concatenated[0][\"input_ids\"])"
   ]
  },
  {
   "cell_type": "markdown",
   "metadata": {
    "id": "gfnKGwrfi221"
   },
   "source": [
    "Remove unnecssary `question` and `passage` columns, as they are represented in `query`"
   ]
  },
  {
   "cell_type": "code",
   "execution_count": 7,
   "metadata": {
    "id": "6nisHoRji222"
   },
   "outputs": [],
   "source": [
    "train = train_concatenated.remove_columns([\"question\", \"passage\"])\n",
    "valid = valid_concatenated.remove_columns([\"question\", \"passage\"])\n",
    "test = test_concatenated.remove_columns([\"question\", \"passage\"])"
   ]
  },
  {
   "cell_type": "markdown",
   "metadata": {
    "id": "0zhrD0MVi222"
   },
   "source": [
    "# Model\n",
    "Predefined requirements:\n",
    "- pretrained Transformer encoder (from Hugging Face; it must not be finetuned on the BoolQ dataset yet)\n",
    "- Classifier\n",
    "    - 2 Layers\n",
    "    - ReLu\n",
    "\n",
    "## Network Architecture\n",
    "- Transformer encoder\n",
    "    - ~~`DeBERTa-v3-large`~~`DeBERTa-v3-small`\n",
    "    - Input Dimension: Batch size x 128100\n",
    "    - Output Dimension: Batch size x 768\n",
    "    - It was chosen as the latest version of the `DeBERTa` series, which have improvement over the original `BERT` model.\n",
    "        - With improvements in attention and pre training over `BERT` and `RoBRTa`.\n",
    "        - ~~the `large` variant is used because I assume it will fit into memory and performs better than the base variant~~\n",
    "        - the `small` variant is used because it is the version which fits into memory\n",
    "        - The `v2` tokenizer is compatible with the `v3` model\n",
    "- Classifier\n",
    "    - `nn.Linear`\n",
    "        - Input Dimension: 768 (Pooled output of `DeBERTa`)\n",
    "        - Output Dimension: 256\n",
    "        - Activation: `torch.nn.ReLu`\n",
    "        - Output shape is smaller than input, to promote the model to learn more abstract features for the classification\n",
    "    - `nn.Dropout`\n",
    "        - Dropout rate: 0.1\n",
    "        - Dropout is used to prevent overfitting, which happens easily with such a small dataset\n",
    "    - `nn.Linear`\n",
    "        - Input Dimension: 256\n",
    "        - Output Dimension: 1\n",
    "            - Output is probability of class (1 = 100% true, 0 = 0% true)\n",
    "        - Final Activation: `torch.nn.Sigmoid`\n",
    "\n",
    "- Normalization: Done in the `DeBERTa` model with their Masked Layer Normalization\n",
    "- Regularization: Optimizer `AdamW` applies L2 regularization to loss, no regularization layer is in `DeBERTa`\n",
    "\n",
    "### Loss function\n",
    "Default by transformers library: Binary Cross-Entropy with logit loss:\n",
    "- Not changed because it is the best choice for binary classification problems\n",
    "- and with logits can be better than only Binary cross entropy because it is supposedly more numerically stable\n",
    "\n",
    "### Optimizer\n",
    "Default by transformers library: `AdamW`\n",
    "- Not changed because it performs well and the original `DeBERTa` was also trained with a version of `AdamW`\n",
    "\n",
    "## Correctness test\n",
    "Test run of training, validation, test and prediction with 1 input\n",
    "Check transformer encoder output shapes\n",
    "\n",
    "## Implementation\n",
    "The pretrained transformer had to be wrapped in a PyTorch Lightning module because only using the `transformers` library is too restrictive.\n",
    "The flexibility gained by using PyTorch Lightning is worth the effort."
   ]
  },
  {
   "cell_type": "code",
   "execution_count": 8,
   "metadata": {
    "id": "gbxcKLHIi222",
    "scrolled": true
   },
   "outputs": [],
   "source": [
    "class Classifier(L.LightningModule):\n",
    "    def __init__(self, lr=1e3):\n",
    "        super().__init__()\n",
    "        self.lr = lr\n",
    "\n",
    "        transformer = AutoModelForSequenceClassification.from_pretrained(\n",
    "            MODEL, problem_type=\"multi_label_classification\", num_labels=1\n",
    "        )\n",
    "        transformer.classifier = torch.nn.Sequential(\n",
    "            torch.nn.Linear(768, 256),\n",
    "            torch.nn.ReLU(),\n",
    "            torch.nn.Dropout(0.1),\n",
    "            torch.nn.Linear(256, 1),\n",
    "            torch.nn.Flatten(0, 1),\n",
    "        )\n",
    "\n",
    "        self.transformer = transformer\n",
    "\n",
    "    def forward(self, ids, mask, token_type_ids):\n",
    "        output = self.transformer(\n",
    "            ids, attention_mask=mask, token_type_ids=token_type_ids, return_dict=False\n",
    "        )\n",
    "        return output\n",
    "\n",
    "    def configure_optimizers(self):\n",
    "        optimizer = torch.optim.AdamW(self.parameters(), lr=self.lr)\n",
    "        return optimizer"
   ]
  },
  {
   "cell_type": "markdown",
   "metadata": {
    "id": "Bklq10Kdmg46"
   },
   "source": [
    "Define the batch padding function. Using the DeBERTA-v2 tokenzier with its defaults for the padding token."
   ]
  },
  {
   "cell_type": "code",
   "execution_count": 9,
   "metadata": {
    "id": "y6QIyfhMmgia"
   },
   "outputs": [],
   "source": [
    "def batch_collate(batch):\n",
    "    padded = tokenizer.pad(batch, return_tensors=\"pt\")\n",
    "    return (\n",
    "        padded[\"input_ids\"],\n",
    "        padded[\"attention_mask\"],\n",
    "        padded[\"token_type_ids\"],\n",
    "        padded[\"labels\"],\n",
    "    )"
   ]
  },
  {
   "cell_type": "markdown",
   "metadata": {
    "id": "h6iGx38Xi223"
   },
   "source": [
    "Correctness test of the model definition, by running the model with one batch."
   ]
  },
  {
   "cell_type": "code",
   "execution_count": 12,
   "metadata": {
    "colab": {
     "base_uri": "https://localhost:8080/",
     "height": 706,
     "referenced_widgets": [
      "e245e8a2a27547bab9792a8d93790130",
      "5f857eb9d82c4516852013697b7b2a33",
      "956c96a1934c466ab7335ed22b3e0567",
      "418eb5973d7c4261ac2c34e2c41f151c",
      "770023d84e5e475cba53504ef1d686f2",
      "c8a0553991b84fecb559fc82f1c83716",
      "76e2e1096787416e9e6958bf3f99427b",
      "dd07e032758a45a99089fc8b7576cf76",
      "d40355b4414545aab41537a25b7f767b",
      "d6a8b62cdbeb457e982e526f526679fc",
      "7a11ef5cc8a747f9b6d09b2334410916",
      "238e04b4fb5c49e3b9f0c217b50f7ae8",
      "3a878d4b7bb1492b8546875bf0505f32",
      "2d5e87e27cdc4e538bfe49a89564ef18",
      "58818b833bb040c3bf1eaf36bf2422bd",
      "9ae719eac5214df7922892388f8d52e7",
      "225ffb8b8c324e8aab56a6e802c48a42",
      "202c59070247475f9e7d128fa1f52aaa",
      "211c5193fc2945098a7c364e4ada8fd8",
      "962d81661e2b4edda53dab8695013332",
      "24a766eca24f43a3bb507e8aecab06d1",
      "4499ad06aee048cdae659e6e381a2181"
     ]
    },
    "id": "nyhVEKFIi223",
    "outputId": "ca85847f-7d57-4eea-d59b-6184c7470554"
   },
   "outputs": [
    {
     "name": "stderr",
     "output_type": "stream",
     "text": [
      "Some weights of DebertaV2ForSequenceClassification were not initialized from the model checkpoint at microsoft/deberta-v3-small and are newly initialized: ['classifier.bias', 'classifier.weight', 'pooler.dense.bias', 'pooler.dense.weight']\n",
      "You should probably TRAIN this model on a down-stream task to be able to use it for predictions and inference.\n"
     ]
    },
    {
     "data": {
      "text/plain": [
       "Classifier(\n",
       "  (transformer): DebertaV2ForSequenceClassification(\n",
       "    (deberta): DebertaV2Model(\n",
       "      (embeddings): DebertaV2Embeddings(\n",
       "        (word_embeddings): Embedding(128100, 768, padding_idx=0)\n",
       "        (LayerNorm): LayerNorm((768,), eps=1e-07, elementwise_affine=True)\n",
       "        (dropout): StableDropout()\n",
       "      )\n",
       "      (encoder): DebertaV2Encoder(\n",
       "        (layer): ModuleList(\n",
       "          (0-5): 6 x DebertaV2Layer(\n",
       "            (attention): DebertaV2Attention(\n",
       "              (self): DisentangledSelfAttention(\n",
       "                (query_proj): Linear(in_features=768, out_features=768, bias=True)\n",
       "                (key_proj): Linear(in_features=768, out_features=768, bias=True)\n",
       "                (value_proj): Linear(in_features=768, out_features=768, bias=True)\n",
       "                (pos_dropout): StableDropout()\n",
       "                (dropout): StableDropout()\n",
       "              )\n",
       "              (output): DebertaV2SelfOutput(\n",
       "                (dense): Linear(in_features=768, out_features=768, bias=True)\n",
       "                (LayerNorm): LayerNorm((768,), eps=1e-07, elementwise_affine=True)\n",
       "                (dropout): StableDropout()\n",
       "              )\n",
       "            )\n",
       "            (intermediate): DebertaV2Intermediate(\n",
       "              (dense): Linear(in_features=768, out_features=3072, bias=True)\n",
       "              (intermediate_act_fn): GELUActivation()\n",
       "            )\n",
       "            (output): DebertaV2Output(\n",
       "              (dense): Linear(in_features=3072, out_features=768, bias=True)\n",
       "              (LayerNorm): LayerNorm((768,), eps=1e-07, elementwise_affine=True)\n",
       "              (dropout): StableDropout()\n",
       "            )\n",
       "          )\n",
       "        )\n",
       "        (rel_embeddings): Embedding(512, 768)\n",
       "        (LayerNorm): LayerNorm((768,), eps=1e-07, elementwise_affine=True)\n",
       "      )\n",
       "    )\n",
       "    (pooler): ContextPooler(\n",
       "      (dense): Linear(in_features=768, out_features=768, bias=True)\n",
       "      (dropout): StableDropout()\n",
       "    )\n",
       "    (classifier): Sequential(\n",
       "      (0): Linear(in_features=768, out_features=256, bias=True)\n",
       "      (1): ReLU()\n",
       "      (2): Dropout(p=0.1, inplace=False)\n",
       "      (3): Linear(in_features=256, out_features=1, bias=True)\n",
       "      (4): Flatten(start_dim=0, end_dim=1)\n",
       "    )\n",
       "    (dropout): StableDropout()\n",
       "  )\n",
       ")"
      ]
     },
     "execution_count": 12,
     "metadata": {},
     "output_type": "execute_result"
    }
   ],
   "source": [
    "Classifier(batch_collate(train[0:1]))"
   ]
  },
  {
   "cell_type": "markdown",
   "metadata": {
    "id": "wWiOTN8ci223"
   },
   "source": [
    "### Checkpoints\n",
    "<s>\n",
    "Save checkpoints at end of training with `transformers.integrations.WandbCallback` configuration and further configuration later in `TrainingArguments`.\n",
    "</s>\n",
    "\n",
    "Best model based on smallest validation loss:\n",
    "- Uses loss because it is the most important metric for the model\n",
    "- Save few checkpoints (top 2) to not bloat the storage, because previous project managed to fill wandb storage with too many checkpoints"
   ]
  },
  {
   "cell_type": "code",
   "execution_count": 13,
   "metadata": {
    "id": "WBDZBs53i224"
   },
   "outputs": [],
   "source": [
    "checkpoint = L.pytorch.callbacks.ModelCheckpoint(\n",
    "    save_top_k=3, monitor=\"val_loss\", mode=\"min\"\n",
    ")"
   ]
  },
  {
   "cell_type": "markdown",
   "metadata": {
    "id": "74U68qJ_i224"
   },
   "source": [
    "## Experiments\n",
    "Various Learning rates (1 - 1e-10) in a uniform distribution\n",
    "- Extensive sweep to check which learning rate is optimal\n",
    "- No learning rate scheduler is needed as AdamW handles adjusting learning rates dynamically on its own with the passed learning rate being the maximum\n",
    "\n",
    "No other experiments are done, because there are not many other parameters which can be changed, as we are using a pre trained model. Additionally finding the optimal learning rate is the most important part of training the model.\n",
    "- The classifier hidden sizes are not changed as they are intended to be decreasing. For the model to pre compress the information before the binary classifcation.\n",
    "- No Weight decay because it might affect the pre trained model negativly\n",
    "- Learning rate warm up is not done, because max epochs are relativly low  \n",
    "\n",
    "\n",
    "### Early stop\n",
    "Early stopping is done by wandb sweeps.\n",
    "- Compare to previous epochs validation loss\n",
    "- wandb sweeps use the Hyperband algorithm\n",
    "- Max epochs 50\n",
    "- Check every 10 epochs"
   ]
  },
  {
   "cell_type": "code",
   "execution_count": 14,
   "metadata": {
    "id": "CowPRCYPi224"
   },
   "outputs": [],
   "source": [
    "experiments = {\n",
    "    \"method\": \"bayes\",\n",
    "    \"metric\": {\"goal\": \"minimize\", \"name\": \"val_loss\"},\n",
    "    \"parameters\": {\n",
    "        \"lr\": {\"max\": 1.0, \"min\": 1e-10},\n",
    "    },\n",
    "    \"early_terminate\": {\"type\": \"hyperband\", \"max_iter\": 20, \"s\": 5, \"eta\": 3},\n",
    "}"
   ]
  },
  {
   "cell_type": "markdown",
   "metadata": {
    "id": "Oi-KkOdBi224"
   },
   "source": [
    "# Training\n",
    "<s>\n",
    "Training is done with the `Trainer` class from the `transformers` library.\n",
    "Configure training and evaluation with `TrainingArguments`.\n",
    "- set `seed` for reproducibility\n",
    "- `logging_strategy = 'epoch'` to log metrics after each epoch\n",
    "- `eval_strategy = 'epoch'` to evaluate after each epoch\n",
    "- `save_strategy = 'steps'` to save after ever 500 steps\n",
    "- `save_total_limit = 3` to save only the last 3 checkpoints\n",
    "- `label_names = ['answer']` to set the label name to the key we use\n",
    "- `report_to = 'wandb'` to log metrics to wandb\n",
    "- `run_name` to set the name of the run to an informative name\n",
    "- `dataloader_num_workers = 4` to speed up data loading\n",
    "- `per_device_train_batch_size = 64` to set the desired batch size for training\n",
    "- `per_device_eval_batch_size = 64` to set the desired batch size for evaluation\n",
    "- `num_train_epochs = 50` to set the desired max epochs\n",
    "\n",
    "Accuracy has to be implemented seperatly for training and evaluation, because `Trainer` from `transformers` only logs loss per default.\n",
    "- Create a `TrainerCallback` for training accuracy\n",
    "- Define `compute_metrics` method for validation accuracy\n",
    "</s>\n",
    "\n",
    "Metrics for training and validation:\n",
    "- Accuracy, because we are interested in both correct true and false predictions\n",
    "- Loss, to see how confident the model is in its predictions\n",
    "- Metrics are logged every epoch. Because logging per step is very noisy and does not have a benefit.\n",
    "\n",
    "Loss is the main metric for all decisions, as it is the most important metric for the model. Accuracy should follow loss in a correct model. Therefore, it is not necessary to optimize for accuracy.\n",
    "\n",
    "As discussed in class no other metrics are needed for training and validation. As accuracy and loss are sufficient to evaluate which model is the best.\n",
    "\n",
    "\n",
    "## Implementation\n",
    "\n",
    "I planned on using the `transformers` library to train the model but after an inital run it turned out to be problematic.\n",
    "The classification head has to be customized to fit the requirements. But after training it, it cannot be loaded from a checkpoint again. Because while loading the model it expects the default classification head weights. There seems to be no way to load the customized classification head.\n",
    "\n",
    "Therefore I reverted back to the PyTorch Lightning training implementation. With the lightning style config for metrics, checkpoints etc."
   ]
  },
  {
   "cell_type": "markdown",
   "metadata": {},
   "source": [
    "Define Lighning training hook and helper function to calculate loss and metrics"
   ]
  },
  {
   "cell_type": "code",
   "execution_count": 10,
   "metadata": {},
   "outputs": [],
   "source": [
    "def training_step(self, batch, batch_idx):\n",
    "    _, _, loss, acc = self._get_pred_metrics(batch)\n",
    "    self.log_dict(\n",
    "        {\n",
    "            \"train_loss\": loss,\n",
    "            \"train_accuracy\": acc,\n",
    "        },\n",
    "        batch_size=BATCH_SIZE,\n",
    "    )\n",
    "    return loss\n",
    "\n",
    "\n",
    "def _get_pred_metrics(self, batch):\n",
    "    ids = batch[0]\n",
    "    mask = batch[1]\n",
    "    token_type_ids = batch[2]\n",
    "    labels = batch[3]\n",
    "    preds = self(ids, mask, token_type_ids)[0]\n",
    "\n",
    "    loss = torch.nn.functional.binary_cross_entropy_with_logits(preds, labels)\n",
    "    preds = torch.sigmoid(preds)\n",
    "    acc = torchmetrics.functional.classification.accuracy(preds, labels, task=\"binary\")\n",
    "    return preds, labels, loss, acc\n",
    "\n",
    "\n",
    "Classifier._get_pred_metrics = _get_pred_metrics\n",
    "Classifier.training_step = training_step"
   ]
  },
  {
   "cell_type": "markdown",
   "metadata": {},
   "source": [
    "Define Lightning validation hook"
   ]
  },
  {
   "cell_type": "code",
   "execution_count": 16,
   "metadata": {},
   "outputs": [],
   "source": [
    "def validation_step(self, batch, batch_idx):\n",
    "    _, _, loss, acc = self._get_pred_metrics(batch)\n",
    "    self.log_dict(\n",
    "        {\n",
    "            \"val_loss\": loss,\n",
    "            \"val_accuracy\": acc,\n",
    "        },\n",
    "        batch_size=BATCH_SIZE,\n",
    "    )\n",
    "    return loss\n",
    "\n",
    "\n",
    "Classifier.validation_step = validation_step"
   ]
  },
  {
   "cell_type": "markdown",
   "metadata": {},
   "source": [
    "Test training and validation functions"
   ]
  },
  {
   "cell_type": "code",
   "execution_count": 17,
   "metadata": {},
   "outputs": [
    {
     "name": "stderr",
     "output_type": "stream",
     "text": [
      "GPU available: True (cuda), used: True\n",
      "TPU available: False, using: 0 TPU cores\n",
      "HPU available: False, using: 0 HPUs\n",
      "/opt/conda/lib/python3.11/site-packages/lightning/pytorch/trainer/connectors/logger_connector/logger_connector.py:75: Starting from v1.9.0, `tensorboardX` has been removed as a dependency of the `lightning.pytorch` package, due to potential conflicts with other packages in the ML ecosystem. For this reason, `logger=True` will use `CSVLogger` as the default logger, unless the `tensorboard` or `tensorboardX` packages are found. Please `pip install lightning[extra]` or one of them to enable TensorBoard support by default\n",
      "Running in `fast_dev_run` mode: will run the requested loop using 1 batch(es). Logging and checkpointing is suppressed.\n",
      "Some weights of DebertaV2ForSequenceClassification were not initialized from the model checkpoint at microsoft/deberta-v3-small and are newly initialized: ['classifier.bias', 'classifier.weight', 'pooler.dense.bias', 'pooler.dense.weight']\n",
      "You should probably TRAIN this model on a down-stream task to be able to use it for predictions and inference.\n",
      "You are using a CUDA device ('NVIDIA A16') that has Tensor Cores. To properly utilize them, you should set `torch.set_float32_matmul_precision('medium' | 'high')` which will trade-off precision for performance. For more details, read https://pytorch.org/docs/stable/generated/torch.set_float32_matmul_precision.html#torch.set_float32_matmul_precision\n",
      "/opt/conda/lib/python3.11/site-packages/lightning/pytorch/callbacks/model_checkpoint.py:654: Checkpoint directory /home/jovyan/NLP/checkpoints exists and is not empty.\n",
      "LOCAL_RANK: 0 - CUDA_VISIBLE_DEVICES: [0]\n",
      "\n",
      "  | Name        | Type                               | Params | Mode\n",
      "--------------------------------------------------------------------------\n",
      "0 | transformer | DebertaV2ForSequenceClassification | 142 M  | eval\n",
      "--------------------------------------------------------------------------\n",
      "142 M     Trainable params\n",
      "0         Non-trainable params\n",
      "142 M     Total params\n",
      "568.368   Total estimated model params size (MB)\n",
      "6         Modules in train mode\n",
      "128       Modules in eval mode\n",
      "/opt/conda/lib/python3.11/site-packages/lightning/pytorch/trainer/connectors/data_connector.py:424: The 'train_dataloader' does not have many workers which may be a bottleneck. Consider increasing the value of the `num_workers` argument` to `num_workers=127` in the `DataLoader` to improve performance.\n",
      "/opt/conda/lib/python3.11/site-packages/lightning/pytorch/trainer/connectors/data_connector.py:424: The 'val_dataloader' does not have many workers which may be a bottleneck. Consider increasing the value of the `num_workers` argument` to `num_workers=127` in the `DataLoader` to improve performance.\n"
     ]
    },
    {
     "data": {
      "application/vnd.jupyter.widget-view+json": {
       "model_id": "57767ab180174197a4c7320b656a2544",
       "version_major": 2,
       "version_minor": 0
      },
      "text/plain": [
       "Training: |          | 0/? [00:00<?, ?it/s]"
      ]
     },
     "metadata": {},
     "output_type": "display_data"
    },
    {
     "data": {
      "application/vnd.jupyter.widget-view+json": {
       "model_id": "",
       "version_major": 2,
       "version_minor": 0
      },
      "text/plain": [
       "Validation: |          | 0/? [00:00<?, ?it/s]"
      ]
     },
     "metadata": {},
     "output_type": "display_data"
    },
    {
     "name": "stderr",
     "output_type": "stream",
     "text": [
      "`Trainer.fit` stopped: `max_steps=1` reached.\n"
     ]
    }
   ],
   "source": [
    "dev_trainer = L.Trainer(fast_dev_run=True, limit_test_batches=1)\n",
    "dev_model = Classifier()\n",
    "dev_trainer.fit(\n",
    "    model=dev_model,\n",
    "    train_dataloaders=torch.utils.data.DataLoader(\n",
    "        train, batch_size=BATCH_SIZE, collate_fn=batch_collate\n",
    "    ),\n",
    "    val_dataloaders=torch.utils.data.DataLoader(\n",
    "        train, batch_size=BATCH_SIZE, collate_fn=batch_collate\n",
    "    ),\n",
    ")"
   ]
  },
  {
   "cell_type": "markdown",
   "metadata": {},
   "source": [
    "Define wandb sweep function"
   ]
  },
  {
   "cell_type": "code",
   "execution_count": 18,
   "metadata": {
    "id": "F3R-yBEXfydq"
   },
   "outputs": [],
   "source": [
    "train_loader = torch.utils.data.DataLoader(\n",
    "    train,\n",
    "    batch_size=BATCH_SIZE,\n",
    "    num_workers=2,\n",
    "    pin_memory=True,\n",
    "    collate_fn=batch_collate,\n",
    ")\n",
    "valid_loader = torch.utils.data.DataLoader(\n",
    "    valid,\n",
    "    batch_size=BATCH_SIZE,\n",
    "    num_workers=2,\n",
    "    pin_memory=True,\n",
    "    collate_fn=batch_collate,\n",
    ")"
   ]
  },
  {
   "cell_type": "code",
   "execution_count": 19,
   "metadata": {
    "colab": {
     "base_uri": "https://localhost:8080/",
     "height": 35
    },
    "id": "Rj1ZNSP09tna",
    "outputId": "d52af698-3698-46e1-9408-e7cd9c0089f8"
   },
   "outputs": [
    {
     "data": {
      "text/plain": [
       "'\\nsweep_id = wandb.sweep(sweep=experiments, project=WANDB_PROJECT)\\n\\nwandb.agent(sweep_id, function=sweep, project=WANDB_PROJECT)\\nwandb.teardown()\\n'"
      ]
     },
     "execution_count": 19,
     "metadata": {},
     "output_type": "execute_result"
    }
   ],
   "source": [
    "def sweep():\n",
    "    with wandb.init(project=WANDB_PROJECT) as run:\n",
    "        name = f\"debertav3-small/lr:{wandb.config['lr']}\"\n",
    "        run.name = name\n",
    "\n",
    "        logger = WandbLogger(project=WANDB_PROJECT, log_model=\"all\", name=name)\n",
    "        classifier = Classifier(**wandb.config)\n",
    "        trainer = L.Trainer(\n",
    "            max_epochs=20,\n",
    "            logger=logger,\n",
    "            accelerator=\"gpu\",\n",
    "            devices=1,\n",
    "            callbacks=[checkpoint],\n",
    "        )\n",
    "        try:\n",
    "            trainer.fit(\n",
    "                model=classifier,\n",
    "                train_dataloaders=train_loader,\n",
    "                val_dataloaders=valid_loader,\n",
    "            )\n",
    "        except Exception as e:\n",
    "            print(e)\n",
    "        finally:\n",
    "            wandb.finish()\n",
    "        wandb.finish()\n",
    "\n",
    "\n",
    "sweep_id = wandb.sweep(sweep=experiments, project=WANDB_PROJECT)\n",
    "\n",
    "wandb.agent(sweep_id, function=sweep, project=WANDB_PROJECT)\n",
    "wandb.teardown()"
   ]
  },
  {
   "cell_type": "markdown",
   "metadata": {
    "id": "8GXdouTfi225"
   },
   "source": [
    "- Use `wandb.sweep` for hyperparameter tuning.\n",
    "- Bayesian search will be used, because there is only one hyperparameter choices and it is continous"
   ]
  },
  {
   "cell_type": "markdown",
   "metadata": {
    "id": "NNdkkiR4i225"
   },
   "source": [
    "After all experiments have run select best runs based on the smallest loss as the final model to be evaluated."
   ]
  },
  {
   "cell_type": "code",
   "execution_count": 12,
   "metadata": {
    "colab": {
     "base_uri": "https://localhost:8080/"
    },
    "id": "npNBOtudi226",
    "outputId": "860db31d-34af-49ea-ba5e-2fc404b1f458"
   },
   "outputs": [
    {
     "name": "stdout",
     "output_type": "stream",
     "text": [
      "Best run debertav3-small/lr:0.12782677083914937 with 0.6839770674705505 validation loss\n"
     ]
    }
   ],
   "source": [
    "# check wandb for sweep id\n",
    "SWEEP_ID = \"rj306mp8\"\n",
    "\n",
    "api = wandb.Api()\n",
    "sweep = api.sweep(f\"yelin-zhang-hslu/{WANDB_PROJECT}/{SWEEP_ID}\")\n",
    "runs = sorted(\n",
    "    sweep.runs,\n",
    "    key=lambda run: run.summary.get(\"val_loss\", 99),\n",
    "    reverse=False,\n",
    ")\n",
    "val_loss = runs[0].summary.get(\"val_loss\", 99)\n",
    "print(f\"Best run {runs[0].name} with {val_loss} validation loss\")"
   ]
  },
  {
   "cell_type": "markdown",
   "metadata": {
    "id": "Nf81g8DQi226"
   },
   "source": [
    "# Evaluation\n",
    "Metrics:\n",
    "- Accuracy\n",
    "    - to be able to compare the model to the previous projects\n",
    "    - As well as to check how it compares to the dataset imbalance\n",
    "    - `torchmetrics.functional.classification.accuracy(preds, target, task='binary')`\n",
    "- Confusion matrix\n",
    "    - To be able to see where the model tends to make mistakes.\n",
    "    - `torchmetrics.functional.confusion_matrix(preds, target, num_classes=2)`\n",
    "    - As discussed in class: use scikit-learn instead of wandb, as it is easier to interpret\n",
    "- Total false predictions\n",
    "    - To see how many false predictions the model made\n",
    "\n",
    "The averaging of the metrics is the default of `micro` which means the metrics are caculated without weighting of the classes.\n",
    "\n",
    "<s>\n",
    "Evaluation will also be done with the `Trainer` class, just using the `evaluate` method and the test dataset.\n",
    "</s>\n",
    "\n",
    "## Implementation\n",
    "The evaluation is also done with Lighning hooks instead of the `transfomer` `Trainer` class, because the implementaiton of the model and training changed\n",
    "\n",
    "\n",
    "## Result\n",
    "The model only predicts the majority class. Therefore reaching the majority class ratio as accuracy for all 3 datasets. It does not predict the `false` class even once.\n",
    "\n",
    "The validation loss curve (as seen in wandb) has plateaued very early on.\n"
   ]
  },
  {
   "cell_type": "markdown",
   "metadata": {},
   "source": [
    "Define lightnng test and prediction hooks"
   ]
  },
  {
   "cell_type": "code",
   "execution_count": 13,
   "metadata": {
    "id": "zDBzJpaSi226"
   },
   "outputs": [],
   "source": [
    "def test_step(self, batch, batch_idx):\n",
    "    (\n",
    "        preds,\n",
    "        answers,\n",
    "        loss,\n",
    "        acc,\n",
    "    ) = self._get_pred_metrics(batch)\n",
    "    stats = torchmetrics.StatScores(task=\"binary\").to(self.device)\n",
    "    scores = stats(preds, answers)\n",
    "    false_preds = scores[2] + scores[3]\n",
    "    total_false = false_preds / len(preds)\n",
    "    self.log_dict(\n",
    "        {\"test_loss\": loss, \"test_accuracy\": acc, \"test_false_pred_ratio\": total_false},\n",
    "        batch_size=BATCH_SIZE,\n",
    "    )\n",
    "    return loss\n",
    "\n",
    "\n",
    "def predict_step(self, batch, batch_idx, dataloader_idx=0):\n",
    "    ids = batch[0]\n",
    "    mask = batch[1]\n",
    "    token_type_ids = batch[2]\n",
    "    return self(ids, mask, token_type_ids)[0]\n",
    "\n",
    "\n",
    "Classifier.test_step = test_step\n",
    "Classifier.predict_step = predict_step"
   ]
  },
  {
   "cell_type": "markdown",
   "metadata": {
    "id": "hnlgnZKMi226"
   },
   "source": [
    "Check if the implementation for test and predict are correct by running it once and checking the output"
   ]
  },
  {
   "cell_type": "code",
   "execution_count": 22,
   "metadata": {
    "colab": {
     "base_uri": "https://localhost:8080/",
     "height": 283,
     "referenced_widgets": [
      "c1676742fa5242ff81800168025b402e",
      "a5fdff5ae4f245ce866f3bba4803a86a",
      "e064e48b647244bb8d54c0705ee70805",
      "e1bcad1a444e4312b2a9a33492450102",
      "c56bc6ceee4045ae989e704576c3897a",
      "ae92f18a13234c8a93a63407a671b73e",
      "6ef1e62d1a164cfdae338fb12e9ff362",
      "9309dde76b844b5eaf67bd50a56cd624",
      "703d94e0e755464790122187520b1e74",
      "b8591ea36eda4189ac03c9a492aea257",
      "9702482011074a8c99ae7b0335066270",
      "a4b8cf2a046548fab30ed1cdf0e58de0",
      "48483b1201654820b66ee1409caa41d4",
      "97887364d80f4d568d36ea4ac3ad2bab",
      "4faaf9df703840ad8c82b25053e110d8",
      "ee0ab14389904c1385fda6770a80fafc",
      "114eba7fccb343e98f1c1e3dd7078f22",
      "421a0e9d98244d838d0fb83d4e59f203",
      "6dbcb04f5a45479f8d15706782d3d2ca",
      "656362cb146d4cbca896a05b774e85c7",
      "34da01d3a7f143a0aeb6120e44010dcb",
      "59df9021039e4001a458599eb7e0016f"
     ]
    },
    "id": "jYJ1P7Gvi226",
    "outputId": "3d9e7f3d-070f-49b0-88e3-7eafe8dc3b3a",
    "scrolled": true
   },
   "outputs": [
    {
     "name": "stderr",
     "output_type": "stream",
     "text": [
      "LOCAL_RANK: 0 - CUDA_VISIBLE_DEVICES: [0]\n",
      "/opt/conda/lib/python3.11/site-packages/lightning/pytorch/trainer/connectors/data_connector.py:424: The 'test_dataloader' does not have many workers which may be a bottleneck. Consider increasing the value of the `num_workers` argument` to `num_workers=127` in the `DataLoader` to improve performance.\n"
     ]
    },
    {
     "data": {
      "application/vnd.jupyter.widget-view+json": {
       "model_id": "cb82691b06db4429a59d12cf3deb61e1",
       "version_major": 2,
       "version_minor": 0
      },
      "text/plain": [
       "Testing: |          | 0/? [00:00<?, ?it/s]"
      ]
     },
     "metadata": {},
     "output_type": "display_data"
    },
    {
     "name": "stdout",
     "output_type": "stream",
     "text": [
      "────────────────────────────────────────────────────────────────────────────────────────────────────────────────────────\n",
      "       Test metric             DataLoader 0\n",
      "────────────────────────────────────────────────────────────────────────────────────────────────────────────────────────\n",
      "      test_accuracy                 0.5\n",
      "  test_false_pred_ratio             1.0\n",
      "        test_loss          9.297155932867789e+16\n",
      "────────────────────────────────────────────────────────────────────────────────────────────────────────────────────────\n"
     ]
    },
    {
     "name": "stderr",
     "output_type": "stream",
     "text": [
      "LOCAL_RANK: 0 - CUDA_VISIBLE_DEVICES: [0]\n",
      "/opt/conda/lib/python3.11/site-packages/lightning/pytorch/trainer/connectors/data_connector.py:424: The 'predict_dataloader' does not have many workers which may be a bottleneck. Consider increasing the value of the `num_workers` argument` to `num_workers=127` in the `DataLoader` to improve performance.\n"
     ]
    },
    {
     "data": {
      "application/vnd.jupyter.widget-view+json": {
       "model_id": "b5f7254a392b4539809cd39a40dae77e",
       "version_major": 2,
       "version_minor": 0
      },
      "text/plain": [
       "Predicting: |          | 0/? [00:00<?, ?it/s]"
      ]
     },
     "metadata": {},
     "output_type": "display_data"
    },
    {
     "data": {
      "text/plain": [
       "[tensor([-1.8594e+17, -1.8594e+17, -1.8594e+17, -1.8594e+17, -1.8594e+17,\n",
       "         -1.8594e+17, -1.8594e+17, -1.8594e+17])]"
      ]
     },
     "execution_count": 22,
     "metadata": {},
     "output_type": "execute_result"
    }
   ],
   "source": [
    "dev_trainer.test(\n",
    "    model=dev_model,\n",
    "    dataloaders=torch.utils.data.DataLoader(\n",
    "        train, batch_size=BATCH_SIZE, collate_fn=batch_collate\n",
    "    ),\n",
    ")\n",
    "dev_trainer.predict(\n",
    "    model=dev_model,\n",
    "    dataloaders=torch.utils.data.DataLoader(\n",
    "        train, batch_size=BATCH_SIZE, collate_fn=batch_collate\n",
    "    ),\n",
    ")"
   ]
  },
  {
   "cell_type": "markdown",
   "metadata": {
    "id": "gJyBIbBAi226"
   },
   "source": [
    "Load the best model from wandb artifact registry."
   ]
  },
  {
   "cell_type": "code",
   "execution_count": 14,
   "metadata": {
    "colab": {
     "base_uri": "https://localhost:8080/",
     "height": 543
    },
    "id": "pwpk3Tvci227",
    "outputId": "d6ac9d56-e40e-47d5-a9c9-fb9bf99d2dcf"
   },
   "outputs": [
    {
     "name": "stderr",
     "output_type": "stream",
     "text": [
      "\u001b[34m\u001b[1mwandb\u001b[0m: Downloading large artifact model-sjf22q4s:v1, 1626.25MB. 1 files... \n",
      "\u001b[34m\u001b[1mwandb\u001b[0m:   1 of 1 files downloaded.  \n",
      "Done. 0:0:3.0\n"
     ]
    },
    {
     "data": {
      "text/html": [
       "Tracking run with wandb version 0.18.7"
      ],
      "text/plain": [
       "<IPython.core.display.HTML object>"
      ]
     },
     "metadata": {},
     "output_type": "display_data"
    },
    {
     "data": {
      "text/html": [
       "Run data is saved locally in <code>/home/jovyan/NLP/wandb/run-20241125_163356-sjf22q4s</code>"
      ],
      "text/plain": [
       "<IPython.core.display.HTML object>"
      ]
     },
     "metadata": {},
     "output_type": "display_data"
    },
    {
     "data": {
      "text/html": [
       "Resuming run <strong><a href='https://wandb.ai/yelin-zhang-hslu/nlp-project-4/runs/sjf22q4s' target=\"_blank\">debertav3-small/lr:0.12782677083914937</a></strong> to <a href='https://wandb.ai/yelin-zhang-hslu/nlp-project-4' target=\"_blank\">Weights & Biases</a> (<a href='https://wandb.me/developer-guide' target=\"_blank\">docs</a>)<br/>Sweep page: <a href='https://wandb.ai/yelin-zhang-hslu/nlp-project-4/sweeps/rj306mp8' target=\"_blank\">https://wandb.ai/yelin-zhang-hslu/nlp-project-4/sweeps/rj306mp8</a>"
      ],
      "text/plain": [
       "<IPython.core.display.HTML object>"
      ]
     },
     "metadata": {},
     "output_type": "display_data"
    },
    {
     "data": {
      "text/html": [
       " View project at <a href='https://wandb.ai/yelin-zhang-hslu/nlp-project-4' target=\"_blank\">https://wandb.ai/yelin-zhang-hslu/nlp-project-4</a>"
      ],
      "text/plain": [
       "<IPython.core.display.HTML object>"
      ]
     },
     "metadata": {},
     "output_type": "display_data"
    },
    {
     "data": {
      "text/html": [
       " View sweep at <a href='https://wandb.ai/yelin-zhang-hslu/nlp-project-4/sweeps/rj306mp8' target=\"_blank\">https://wandb.ai/yelin-zhang-hslu/nlp-project-4/sweeps/rj306mp8</a>"
      ],
      "text/plain": [
       "<IPython.core.display.HTML object>"
      ]
     },
     "metadata": {},
     "output_type": "display_data"
    },
    {
     "data": {
      "text/html": [
       " View run at <a href='https://wandb.ai/yelin-zhang-hslu/nlp-project-4/runs/sjf22q4s' target=\"_blank\">https://wandb.ai/yelin-zhang-hslu/nlp-project-4/runs/sjf22q4s</a>"
      ],
      "text/plain": [
       "<IPython.core.display.HTML object>"
      ]
     },
     "metadata": {},
     "output_type": "display_data"
    },
    {
     "name": "stderr",
     "output_type": "stream",
     "text": [
      "Some weights of DebertaV2ForSequenceClassification were not initialized from the model checkpoint at microsoft/deberta-v3-small and are newly initialized: ['classifier.bias', 'classifier.weight', 'pooler.dense.bias', 'pooler.dense.weight']\n",
      "You should probably TRAIN this model on a down-stream task to be able to use it for predictions and inference.\n"
     ]
    }
   ],
   "source": [
    "checkpoint_reference = f\"yelin-zhang-hslu/{WANDB_PROJECT}/model-{runs[0].id}:v1\"\n",
    "\n",
    "artifact = api.artifact(checkpoint_reference).download()\n",
    "wandb.init(project=WANDB_PROJECT, id=runs[0].id, resume=\"allow\")\n",
    "\n",
    "final_model = Classifier.load_from_checkpoint(Path(artifact) / \"model.ckpt\")"
   ]
  },
  {
   "cell_type": "markdown",
   "metadata": {
    "id": "Ef4n9u-3kOAj"
   },
   "source": [
    "Define confusion matrix"
   ]
  },
  {
   "cell_type": "code",
   "execution_count": 15,
   "metadata": {
    "id": "XKGBsUSBgJR2"
   },
   "outputs": [],
   "source": [
    "def create_confusion_matrix(trainer, classifier, dataset):\n",
    "    dataloader = torch.utils.data.DataLoader(\n",
    "        dataset,\n",
    "        batch_size=BATCH_SIZE,\n",
    "        num_workers=2,\n",
    "        pin_memory=True,\n",
    "        collate_fn=batch_collate,\n",
    "    )\n",
    "    pred_batches = trainer.predict(classifier, dataloaders=dataloader)\n",
    "    preds = np.array([])\n",
    "    for batch in pred_batches:\n",
    "        preds = np.concatenate((preds, batch.squeeze().numpy()))\n",
    "    matrix = sklearn.metrics.ConfusionMatrixDisplay.from_predictions(\n",
    "        y_true=dataset[\"answer\"],\n",
    "        y_pred=np.round(preds),\n",
    "    )\n",
    "    return matrix"
   ]
  },
  {
   "cell_type": "markdown",
   "metadata": {
    "id": "AIDLNoNhi228"
   },
   "source": [
    "Run evaluation of final model with test and validation dataset."
   ]
  },
  {
   "cell_type": "code",
   "execution_count": 16,
   "metadata": {
    "colab": {
     "base_uri": "https://localhost:8080/",
     "height": 541
    },
    "id": "40eAqqgyi228",
    "outputId": "2f3a0658-b8a8-4d39-a15d-133fc7240ec0"
   },
   "outputs": [
    {
     "data": {
      "text/html": [
       "Finishing last run (ID:sjf22q4s) before initializing another..."
      ],
      "text/plain": [
       "<IPython.core.display.HTML object>"
      ]
     },
     "metadata": {},
     "output_type": "display_data"
    },
    {
     "data": {
      "text/html": [
       "\n",
       "    <style>\n",
       "        .wandb-row {\n",
       "            display: flex;\n",
       "            flex-direction: row;\n",
       "            flex-wrap: wrap;\n",
       "            justify-content: flex-start;\n",
       "            width: 100%;\n",
       "        }\n",
       "        .wandb-col {\n",
       "            display: flex;\n",
       "            flex-direction: column;\n",
       "            flex-basis: 100%;\n",
       "            flex: 1;\n",
       "            padding: 10px;\n",
       "        }\n",
       "    </style>\n",
       "<div class=\"wandb-row\"><div class=\"wandb-col\"><h3>Run summary:</h3><br/><table class=\"wandb\"><tr><td>epoch</td><td>0</td></tr><tr><td>train_accuracy</td><td>0.25</td></tr><tr><td>train_loss</td><td>0.62756</td></tr><tr><td>trainer/global_step</td><td>0</td></tr><tr><td>val_accuracy</td><td>0.595</td></tr><tr><td>val_loss</td><td>0.68398</td></tr></table><br/></div></div>"
      ],
      "text/plain": [
       "<IPython.core.display.HTML object>"
      ]
     },
     "metadata": {},
     "output_type": "display_data"
    },
    {
     "data": {
      "text/html": [
       " View run <strong style=\"color:#cdcd00\">debertav3-small/lr:0.12782677083914937</strong> at: <a href='https://wandb.ai/yelin-zhang-hslu/nlp-project-4/runs/sjf22q4s' target=\"_blank\">https://wandb.ai/yelin-zhang-hslu/nlp-project-4/runs/sjf22q4s</a><br/> View project at: <a href='https://wandb.ai/yelin-zhang-hslu/nlp-project-4' target=\"_blank\">https://wandb.ai/yelin-zhang-hslu/nlp-project-4</a><br/>Synced 5 W&B file(s), 0 media file(s), 0 artifact file(s) and 0 other file(s)"
      ],
      "text/plain": [
       "<IPython.core.display.HTML object>"
      ]
     },
     "metadata": {},
     "output_type": "display_data"
    },
    {
     "data": {
      "text/html": [
       "Find logs at: <code>./wandb/run-20241125_163356-sjf22q4s/logs</code>"
      ],
      "text/plain": [
       "<IPython.core.display.HTML object>"
      ]
     },
     "metadata": {},
     "output_type": "display_data"
    },
    {
     "data": {
      "text/html": [
       "Successfully finished last run (ID:sjf22q4s). Initializing new run:<br/>"
      ],
      "text/plain": [
       "<IPython.core.display.HTML object>"
      ]
     },
     "metadata": {},
     "output_type": "display_data"
    },
    {
     "data": {
      "text/html": [
       "Tracking run with wandb version 0.18.7"
      ],
      "text/plain": [
       "<IPython.core.display.HTML object>"
      ]
     },
     "metadata": {},
     "output_type": "display_data"
    },
    {
     "data": {
      "text/html": [
       "Run data is saved locally in <code>/home/jovyan/NLP/wandb/run-20241125_163408-sjf22q4s</code>"
      ],
      "text/plain": [
       "<IPython.core.display.HTML object>"
      ]
     },
     "metadata": {},
     "output_type": "display_data"
    },
    {
     "data": {
      "text/html": [
       "Resuming run <strong><a href='https://wandb.ai/yelin-zhang-hslu/nlp-project-4/runs/sjf22q4s' target=\"_blank\">debertav3-small/lr:0.12782677083914937</a></strong> to <a href='https://wandb.ai/yelin-zhang-hslu/nlp-project-4' target=\"_blank\">Weights & Biases</a> (<a href='https://wandb.me/developer-guide' target=\"_blank\">docs</a>)<br/>Sweep page: <a href='https://wandb.ai/yelin-zhang-hslu/nlp-project-4/sweeps/rj306mp8' target=\"_blank\">https://wandb.ai/yelin-zhang-hslu/nlp-project-4/sweeps/rj306mp8</a>"
      ],
      "text/plain": [
       "<IPython.core.display.HTML object>"
      ]
     },
     "metadata": {},
     "output_type": "display_data"
    },
    {
     "data": {
      "text/html": [
       " View project at <a href='https://wandb.ai/yelin-zhang-hslu/nlp-project-4' target=\"_blank\">https://wandb.ai/yelin-zhang-hslu/nlp-project-4</a>"
      ],
      "text/plain": [
       "<IPython.core.display.HTML object>"
      ]
     },
     "metadata": {},
     "output_type": "display_data"
    },
    {
     "data": {
      "text/html": [
       " View sweep at <a href='https://wandb.ai/yelin-zhang-hslu/nlp-project-4/sweeps/rj306mp8' target=\"_blank\">https://wandb.ai/yelin-zhang-hslu/nlp-project-4/sweeps/rj306mp8</a>"
      ],
      "text/plain": [
       "<IPython.core.display.HTML object>"
      ]
     },
     "metadata": {},
     "output_type": "display_data"
    },
    {
     "data": {
      "text/html": [
       " View run at <a href='https://wandb.ai/yelin-zhang-hslu/nlp-project-4/runs/sjf22q4s' target=\"_blank\">https://wandb.ai/yelin-zhang-hslu/nlp-project-4/runs/sjf22q4s</a>"
      ],
      "text/plain": [
       "<IPython.core.display.HTML object>"
      ]
     },
     "metadata": {},
     "output_type": "display_data"
    },
    {
     "name": "stderr",
     "output_type": "stream",
     "text": [
      "GPU available: True (cuda), used: True\n",
      "TPU available: False, using: 0 TPU cores\n",
      "HPU available: False, using: 0 HPUs\n"
     ]
    }
   ],
   "source": [
    "wandb.init(project=WANDB_PROJECT, id=runs[0].id, resume=\"allow\")\n",
    "\n",
    "eval_logger = WandbLogger(project=WANDB_PROJECT, log_model=\"all\")\n",
    "eval_trainer = L.Trainer(\n",
    "    logger=eval_logger,\n",
    "    accelerator=\"gpu\",\n",
    "    devices=1,\n",
    ")"
   ]
  },
  {
   "cell_type": "code",
   "execution_count": 26,
   "metadata": {
    "colab": {
     "base_uri": "https://localhost:8080/",
     "height": 735,
     "referenced_widgets": [
      "202f3abbd05b400a8c3aa9bff7bb1e6c",
      "07112b60c6554e878bc5374383cdf436",
      "5cf9436102b4422eb898cd2e3dc6afd2",
      "530ce8fc0c6b4116935ee625e18f2cdd",
      "2e7c93fcdf6949cb94b78d2a4ed47acf",
      "21d37e58ed224cc9b5945b4a24135826",
      "3ae6b6e66cda452dbc74cc743955e096",
      "339d5ab6bc1e42a8ac25e9ded6f5c982",
      "ec5fe8352cde4cb28057c7211dbac446",
      "7445bb0d5a094bbfa5bb273d2c609077",
      "de6f2b723a5e4f27ba2e096d246c7ebf",
      "6e4cc5e678e741cfa77469854b833cda",
      "2b6be8fc27ad491380d1b809e4776f97",
      "e45440b610754d5d829f67bb66667e0a",
      "68ff6f7562074ecba42b375562319146",
      "7f59b01247cb42f390d80c6af6f708c2",
      "8ac86a2e83d94196a900512bf94c6ad6",
      "f0ce617f84204530908a30806bf830ca",
      "0389d99a95264114a9c686be575a8583",
      "e7c8eb27f8334f20ad402001a327c55c",
      "89847e18e05e4a49b2a50771eb918cac",
      "23a220b5bed2452a9ecc684a04ddd5f4"
     ]
    },
    "id": "fGcvCd4Zfh4L",
    "outputId": "5ae48c96-45f4-4064-eb77-7dbb59ca988d"
   },
   "outputs": [
    {
     "name": "stderr",
     "output_type": "stream",
     "text": [
      "/opt/conda/lib/python3.11/site-packages/lightning/pytorch/loggers/wandb.py:396: There is a wandb run already in progress and newly created instances of `WandbLogger` will reuse this run. If this is not desired, call `wandb.finish()` before instantiating `WandbLogger`.\n",
      "LOCAL_RANK: 0 - CUDA_VISIBLE_DEVICES: [0]\n"
     ]
    },
    {
     "data": {
      "application/vnd.jupyter.widget-view+json": {
       "model_id": "243a9833fec2460cb590918ad8b82ea7",
       "version_major": 2,
       "version_minor": 0
      },
      "text/plain": [
       "Validation: |          | 0/? [00:00<?, ?it/s]"
      ]
     },
     "metadata": {},
     "output_type": "display_data"
    },
    {
     "name": "stdout",
     "output_type": "stream",
     "text": [
      "────────────────────────────────────────────────────────────────────────────────────────────────────────────────────────\n",
      "     Validate metric           DataLoader 0\n",
      "────────────────────────────────────────────────────────────────────────────────────────────────────────────────────────\n",
      "      val_accuracy          0.5950000286102295\n",
      "        val_loss            0.6839770674705505\n",
      "────────────────────────────────────────────────────────────────────────────────────────────────────────────────────────\n"
     ]
    },
    {
     "name": "stderr",
     "output_type": "stream",
     "text": [
      "LOCAL_RANK: 0 - CUDA_VISIBLE_DEVICES: [0]\n"
     ]
    },
    {
     "data": {
      "application/vnd.jupyter.widget-view+json": {
       "model_id": "4bbdf2094e53465e9032117fe726a661",
       "version_major": 2,
       "version_minor": 0
      },
      "text/plain": [
       "Predicting: |          | 0/? [00:00<?, ?it/s]"
      ]
     },
     "metadata": {},
     "output_type": "display_data"
    },
    {
     "data": {
      "text/plain": [
       "<sklearn.metrics._plot.confusion_matrix.ConfusionMatrixDisplay at 0x7f00eb4883d0>"
      ]
     },
     "execution_count": 26,
     "metadata": {},
     "output_type": "execute_result"
    },
    {
     "data": {
      "image/png": "[encoded data removed]",
      "text/plain": [
       "<Figure size 640x480 with 2 Axes>"
      ]
     },
     "metadata": {},
     "output_type": "display_data"
    }
   ],
   "source": [
    "eval_trainer.validate(final_model, dataloaders=valid_loader)\n",
    "validation_matrix = create_confusion_matrix(eval_trainer, final_model, valid)\n",
    "wandb.log({\"valid_conf_matrix\": validation_matrix.im_})\n",
    "validation_matrix"
   ]
  },
  {
   "cell_type": "code",
   "execution_count": 17,
   "metadata": {},
   "outputs": [
    {
     "name": "stderr",
     "output_type": "stream",
     "text": [
      "You are using a CUDA device ('NVIDIA A16') that has Tensor Cores. To properly utilize them, you should set `torch.set_float32_matmul_precision('medium' | 'high')` which will trade-off precision for performance. For more details, read https://pytorch.org/docs/stable/generated/torch.set_float32_matmul_precision.html#torch.set_float32_matmul_precision\n",
      "/opt/conda/lib/python3.11/site-packages/lightning/pytorch/loggers/wandb.py:396: There is a wandb run already in progress and newly created instances of `WandbLogger` will reuse this run. If this is not desired, call `wandb.finish()` before instantiating `WandbLogger`.\n",
      "LOCAL_RANK: 0 - CUDA_VISIBLE_DEVICES: [0]\n"
     ]
    },
    {
     "data": {
      "application/vnd.jupyter.widget-view+json": {
       "model_id": "aa3d216800574ed3ab47bea42a6f5b61",
       "version_major": 2,
       "version_minor": 0
      },
      "text/plain": [
       "Testing: |          | 0/? [00:00<?, ?it/s]"
      ]
     },
     "metadata": {},
     "output_type": "display_data"
    },
    {
     "name": "stdout",
     "output_type": "stream",
     "text": [
      "────────────────────────────────────────────────────────────────────────────────────────────────────────────────────────\n",
      "       Test metric             DataLoader 0\n",
      "────────────────────────────────────────────────────────────────────────────────────────────────────────────────────────\n",
      "      test_accuracy         0.6218419075012207\n",
      "  test_false_pred_ratio             0.0\n",
      "        test_loss           0.6809313297271729\n",
      "────────────────────────────────────────────────────────────────────────────────────────────────────────────────────────\n"
     ]
    },
    {
     "name": "stderr",
     "output_type": "stream",
     "text": [
      "LOCAL_RANK: 0 - CUDA_VISIBLE_DEVICES: [0]\n"
     ]
    },
    {
     "data": {
      "application/vnd.jupyter.widget-view+json": {
       "model_id": "e7c06e5c76a140dfacf915da51b801c8",
       "version_major": 2,
       "version_minor": 0
      },
      "text/plain": [
       "Predicting: |          | 0/? [00:00<?, ?it/s]"
      ]
     },
     "metadata": {},
     "output_type": "display_data"
    },
    {
     "data": {
      "text/plain": [
       "<sklearn.metrics._plot.confusion_matrix.ConfusionMatrixDisplay at 0x7fa07d6e65d0>"
      ]
     },
     "execution_count": 17,
     "metadata": {},
     "output_type": "execute_result"
    },
    {
     "data": {
      "image/png": "[encoded data removed]",
      "text/plain": [
       "<Figure size 640x480 with 2 Axes>"
      ]
     },
     "metadata": {},
     "output_type": "display_data"
    }
   ],
   "source": [
    "test_loader = torch.utils.data.DataLoader(\n",
    "    test,\n",
    "    batch_size=BATCH_SIZE,\n",
    "    num_workers=2,\n",
    "    pin_memory=True,\n",
    "    collate_fn=batch_collate,\n",
    ")\n",
    "eval_trainer.test(final_model, dataloaders=test_loader)\n",
    "test_matrix = create_confusion_matrix(eval_trainer, final_model, test)\n",
    "wandb.log({\"test_conf_matrix\": test_matrix.im_})\n",
    "test_matrix"
   ]
  },
  {
   "cell_type": "markdown",
   "metadata": {
    "id": "cWP-HYqei229"
   },
   "source": [
    "# Interpretation\n",
    "Expectation:\n",
    "70% accuracy with test dataset. The expectation is that by using a good pretrained transformer encoder model (e.g. BERT family) that it has learned the semantics of words and sentences already. Therefore the classification of the questions should be easier.\n",
    "\n",
    "## Results\n",
    "The resulting model is a pure majority class classifiers. This is probably due to the limited training runs with high learning rate values. If training would have run longer with smaller learning rates, it might have been able to learn the distribution better.\n",
    "\n",
    "The interpertation of the validation loss curves of the few runs that managed to complete is that:\n",
    "- learning rate over ~0.3 are pure minority class classifiers\n",
    "- learning rate under ~0.3 will probably be pure majority class classifiers\n",
    "- even smaller learning rates (probably at most ~0.01) would be needed, to get a mix of classifications\n",
    "\n",
    "In comparison to previous project this one performs about the same, but is special because it is a pure majority class classifier. Which did not happen with the simpler models, as they used reasonable learning rates.\n",
    "\n",
    "## Learning\n",
    "- Pre trained models are powerful, but require lots of resources to run.\n",
    "- Very slow and long traning times to tune large pre trained models.\n",
    "- Restrict continous learning rate experiments to a smaller range. \n",
    "- The `transformer` libary offers simple tools to run models, but is not reasonable to use if the defaults do not work. Being able to customize many aspects is very important after all when creating your own model."
   ]
  }
 ],
 "metadata": {
  "accelerator": "GPU",
  "colab": {
   "gpuType": "T4",
   "provenance": []
  },
  "kernelspec": {
   "display_name": "Python 3 (ipykernel)",
   "language": "python",
   "name": "python3"
  },
  "language_info": {
   "codemirror_mode": {
    "name": "ipython",
    "version": 3
   },
   "file_extension": ".py",
   "mimetype": "text/x-python",
   "name": "python",
   "nbconvert_exporter": "python",
   "pygments_lexer": "ipython3",
   "version": "3.11.9"
  },
  "widgets": {
   "application/vnd.jupyter.widget-state+json": {
    "0389d99a95264114a9c686be575a8583": {
     "model_module": "@jupyter-widgets/base",
     "model_module_version": "1.2.0",
     "model_name": "LayoutModel",
     "state": {
      "_model_module": "@jupyter-widgets/base",
      "_model_module_version": "1.2.0",
      "_model_name": "LayoutModel",
      "_view_count": null,
      "_view_module": "@jupyter-widgets/base",
      "_view_module_version": "1.2.0",
      "_view_name": "LayoutView",
      "align_content": null,
      "align_items": null,
      "align_self": null,
      "border": null,
      "bottom": null,
      "display": null,
      "flex": "2",
      "flex_flow": null,
      "grid_area": null,
      "grid_auto_columns": null,
      "grid_auto_flow": null,
      "grid_auto_rows": null,
      "grid_column": null,
      "grid_gap": null,
      "grid_row": null,
      "grid_template_areas": null,
      "grid_template_columns": null,
      "grid_template_rows": null,
      "height": null,
      "justify_content": null,
      "justify_items": null,
      "left": null,
      "margin": null,
      "max_height": null,
      "max_width": null,
      "min_height": null,
      "min_width": null,
      "object_fit": null,
      "object_position": null,
      "order": null,
      "overflow": null,
      "overflow_x": null,
      "overflow_y": null,
      "padding": null,
      "right": null,
      "top": null,
      "visibility": null,
      "width": null
     }
    },
    "07112b60c6554e878bc5374383cdf436": {
     "model_module": "@jupyter-widgets/controls",
     "model_module_version": "1.5.0",
     "model_name": "HTMLModel",
     "state": {
      "_dom_classes": [],
      "_model_module": "@jupyter-widgets/controls",
      "_model_module_version": "1.5.0",
      "_model_name": "HTMLModel",
      "_view_count": null,
      "_view_module": "@jupyter-widgets/controls",
      "_view_module_version": "1.5.0",
      "_view_name": "HTMLView",
      "description": "",
      "description_tooltip": null,
      "layout": "IPY_MODEL_21d37e58ed224cc9b5945b4a24135826",
      "placeholder": "​",
      "style": "IPY_MODEL_3ae6b6e66cda452dbc74cc743955e096",
      "value": "Validation DataLoader 0: 100%"
     }
    },
    "114eba7fccb343e98f1c1e3dd7078f22": {
     "model_module": "@jupyter-widgets/base",
     "model_module_version": "1.2.0",
     "model_name": "LayoutModel",
     "state": {
      "_model_module": "@jupyter-widgets/base",
      "_model_module_version": "1.2.0",
      "_model_name": "LayoutModel",
      "_view_count": null,
      "_view_module": "@jupyter-widgets/base",
      "_view_module_version": "1.2.0",
      "_view_name": "LayoutView",
      "align_content": null,
      "align_items": null,
      "align_self": null,
      "border": null,
      "bottom": null,
      "display": null,
      "flex": null,
      "flex_flow": null,
      "grid_area": null,
      "grid_auto_columns": null,
      "grid_auto_flow": null,
      "grid_auto_rows": null,
      "grid_column": null,
      "grid_gap": null,
      "grid_row": null,
      "grid_template_areas": null,
      "grid_template_columns": null,
      "grid_template_rows": null,
      "height": null,
      "justify_content": null,
      "justify_items": null,
      "left": null,
      "margin": null,
      "max_height": null,
      "max_width": null,
      "min_height": null,
      "min_width": null,
      "object_fit": null,
      "object_position": null,
      "order": null,
      "overflow": null,
      "overflow_x": null,
      "overflow_y": null,
      "padding": null,
      "right": null,
      "top": null,
      "visibility": null,
      "width": null
     }
    },
    "202c59070247475f9e7d128fa1f52aaa": {
     "model_module": "@jupyter-widgets/controls",
     "model_module_version": "1.5.0",
     "model_name": "DescriptionStyleModel",
     "state": {
      "_model_module": "@jupyter-widgets/controls",
      "_model_module_version": "1.5.0",
      "_model_name": "DescriptionStyleModel",
      "_view_count": null,
      "_view_module": "@jupyter-widgets/base",
      "_view_module_version": "1.2.0",
      "_view_name": "StyleView",
      "description_width": ""
     }
    },
    "202f3abbd05b400a8c3aa9bff7bb1e6c": {
     "model_module": "@jupyter-widgets/controls",
     "model_module_version": "1.5.0",
     "model_name": "HBoxModel",
     "state": {
      "_dom_classes": [],
      "_model_module": "@jupyter-widgets/controls",
      "_model_module_version": "1.5.0",
      "_model_name": "HBoxModel",
      "_view_count": null,
      "_view_module": "@jupyter-widgets/controls",
      "_view_module_version": "1.5.0",
      "_view_name": "HBoxView",
      "box_style": "",
      "children": [
       "IPY_MODEL_07112b60c6554e878bc5374383cdf436",
       "IPY_MODEL_5cf9436102b4422eb898cd2e3dc6afd2",
       "IPY_MODEL_530ce8fc0c6b4116935ee625e18f2cdd"
      ],
      "layout": "IPY_MODEL_2e7c93fcdf6949cb94b78d2a4ed47acf"
     }
    },
    "211c5193fc2945098a7c364e4ada8fd8": {
     "model_module": "@jupyter-widgets/base",
     "model_module_version": "1.2.0",
     "model_name": "LayoutModel",
     "state": {
      "_model_module": "@jupyter-widgets/base",
      "_model_module_version": "1.2.0",
      "_model_name": "LayoutModel",
      "_view_count": null,
      "_view_module": "@jupyter-widgets/base",
      "_view_module_version": "1.2.0",
      "_view_name": "LayoutView",
      "align_content": null,
      "align_items": null,
      "align_self": null,
      "border": null,
      "bottom": null,
      "display": null,
      "flex": "2",
      "flex_flow": null,
      "grid_area": null,
      "grid_auto_columns": null,
      "grid_auto_flow": null,
      "grid_auto_rows": null,
      "grid_column": null,
      "grid_gap": null,
      "grid_row": null,
      "grid_template_areas": null,
      "grid_template_columns": null,
      "grid_template_rows": null,
      "height": null,
      "justify_content": null,
      "justify_items": null,
      "left": null,
      "margin": null,
      "max_height": null,
      "max_width": null,
      "min_height": null,
      "min_width": null,
      "object_fit": null,
      "object_position": null,
      "order": null,
      "overflow": null,
      "overflow_x": null,
      "overflow_y": null,
      "padding": null,
      "right": null,
      "top": null,
      "visibility": null,
      "width": null
     }
    },
    "21d37e58ed224cc9b5945b4a24135826": {
     "model_module": "@jupyter-widgets/base",
     "model_module_version": "1.2.0",
     "model_name": "LayoutModel",
     "state": {
      "_model_module": "@jupyter-widgets/base",
      "_model_module_version": "1.2.0",
      "_model_name": "LayoutModel",
      "_view_count": null,
      "_view_module": "@jupyter-widgets/base",
      "_view_module_version": "1.2.0",
      "_view_name": "LayoutView",
      "align_content": null,
      "align_items": null,
      "align_self": null,
      "border": null,
      "bottom": null,
      "display": null,
      "flex": null,
      "flex_flow": null,
      "grid_area": null,
      "grid_auto_columns": null,
      "grid_auto_flow": null,
      "grid_auto_rows": null,
      "grid_column": null,
      "grid_gap": null,
      "grid_row": null,
      "grid_template_areas": null,
      "grid_template_columns": null,
      "grid_template_rows": null,
      "height": null,
      "justify_content": null,
      "justify_items": null,
      "left": null,
      "margin": null,
      "max_height": null,
      "max_width": null,
      "min_height": null,
      "min_width": null,
      "object_fit": null,
      "object_position": null,
      "order": null,
      "overflow": null,
      "overflow_x": null,
      "overflow_y": null,
      "padding": null,
      "right": null,
      "top": null,
      "visibility": null,
      "width": null
     }
    },
    "225ffb8b8c324e8aab56a6e802c48a42": {
     "model_module": "@jupyter-widgets/base",
     "model_module_version": "1.2.0",
     "model_name": "LayoutModel",
     "state": {
      "_model_module": "@jupyter-widgets/base",
      "_model_module_version": "1.2.0",
      "_model_name": "LayoutModel",
      "_view_count": null,
      "_view_module": "@jupyter-widgets/base",
      "_view_module_version": "1.2.0",
      "_view_name": "LayoutView",
      "align_content": null,
      "align_items": null,
      "align_self": null,
      "border": null,
      "bottom": null,
      "display": null,
      "flex": null,
      "flex_flow": null,
      "grid_area": null,
      "grid_auto_columns": null,
      "grid_auto_flow": null,
      "grid_auto_rows": null,
      "grid_column": null,
      "grid_gap": null,
      "grid_row": null,
      "grid_template_areas": null,
      "grid_template_columns": null,
      "grid_template_rows": null,
      "height": null,
      "justify_content": null,
      "justify_items": null,
      "left": null,
      "margin": null,
      "max_height": null,
      "max_width": null,
      "min_height": null,
      "min_width": null,
      "object_fit": null,
      "object_position": null,
      "order": null,
      "overflow": null,
      "overflow_x": null,
      "overflow_y": null,
      "padding": null,
      "right": null,
      "top": null,
      "visibility": null,
      "width": null
     }
    },
    "238e04b4fb5c49e3b9f0c217b50f7ae8": {
     "model_module": "@jupyter-widgets/controls",
     "model_module_version": "1.5.0",
     "model_name": "HBoxModel",
     "state": {
      "_dom_classes": [],
      "_model_module": "@jupyter-widgets/controls",
      "_model_module_version": "1.5.0",
      "_model_name": "HBoxModel",
      "_view_count": null,
      "_view_module": "@jupyter-widgets/controls",
      "_view_module_version": "1.5.0",
      "_view_name": "HBoxView",
      "box_style": "",
      "children": [
       "IPY_MODEL_3a878d4b7bb1492b8546875bf0505f32",
       "IPY_MODEL_2d5e87e27cdc4e538bfe49a89564ef18",
       "IPY_MODEL_58818b833bb040c3bf1eaf36bf2422bd"
      ],
      "layout": "IPY_MODEL_9ae719eac5214df7922892388f8d52e7"
     }
    },
    "23a220b5bed2452a9ecc684a04ddd5f4": {
     "model_module": "@jupyter-widgets/controls",
     "model_module_version": "1.5.0",
     "model_name": "DescriptionStyleModel",
     "state": {
      "_model_module": "@jupyter-widgets/controls",
      "_model_module_version": "1.5.0",
      "_model_name": "DescriptionStyleModel",
      "_view_count": null,
      "_view_module": "@jupyter-widgets/base",
      "_view_module_version": "1.2.0",
      "_view_name": "StyleView",
      "description_width": ""
     }
    },
    "24a766eca24f43a3bb507e8aecab06d1": {
     "model_module": "@jupyter-widgets/base",
     "model_module_version": "1.2.0",
     "model_name": "LayoutModel",
     "state": {
      "_model_module": "@jupyter-widgets/base",
      "_model_module_version": "1.2.0",
      "_model_name": "LayoutModel",
      "_view_count": null,
      "_view_module": "@jupyter-widgets/base",
      "_view_module_version": "1.2.0",
      "_view_name": "LayoutView",
      "align_content": null,
      "align_items": null,
      "align_self": null,
      "border": null,
      "bottom": null,
      "display": null,
      "flex": null,
      "flex_flow": null,
      "grid_area": null,
      "grid_auto_columns": null,
      "grid_auto_flow": null,
      "grid_auto_rows": null,
      "grid_column": null,
      "grid_gap": null,
      "grid_row": null,
      "grid_template_areas": null,
      "grid_template_columns": null,
      "grid_template_rows": null,
      "height": null,
      "justify_content": null,
      "justify_items": null,
      "left": null,
      "margin": null,
      "max_height": null,
      "max_width": null,
      "min_height": null,
      "min_width": null,
      "object_fit": null,
      "object_position": null,
      "order": null,
      "overflow": null,
      "overflow_x": null,
      "overflow_y": null,
      "padding": null,
      "right": null,
      "top": null,
      "visibility": null,
      "width": null
     }
    },
    "2b6be8fc27ad491380d1b809e4776f97": {
     "model_module": "@jupyter-widgets/controls",
     "model_module_version": "1.5.0",
     "model_name": "HTMLModel",
     "state": {
      "_dom_classes": [],
      "_model_module": "@jupyter-widgets/controls",
      "_model_module_version": "1.5.0",
      "_model_name": "HTMLModel",
      "_view_count": null,
      "_view_module": "@jupyter-widgets/controls",
      "_view_module_version": "1.5.0",
      "_view_name": "HTMLView",
      "description": "",
      "description_tooltip": null,
      "layout": "IPY_MODEL_8ac86a2e83d94196a900512bf94c6ad6",
      "placeholder": "​",
      "style": "IPY_MODEL_f0ce617f84204530908a30806bf830ca",
      "value": "Predicting DataLoader 0: 100%"
     }
    },
    "2d5e87e27cdc4e538bfe49a89564ef18": {
     "model_module": "@jupyter-widgets/controls",
     "model_module_version": "1.5.0",
     "model_name": "FloatProgressModel",
     "state": {
      "_dom_classes": [],
      "_model_module": "@jupyter-widgets/controls",
      "_model_module_version": "1.5.0",
      "_model_name": "FloatProgressModel",
      "_view_count": null,
      "_view_module": "@jupyter-widgets/controls",
      "_view_module_version": "1.5.0",
      "_view_name": "ProgressView",
      "bar_style": "",
      "description": "",
      "description_tooltip": null,
      "layout": "IPY_MODEL_211c5193fc2945098a7c364e4ada8fd8",
      "max": 1,
      "min": 0,
      "orientation": "horizontal",
      "style": "IPY_MODEL_962d81661e2b4edda53dab8695013332",
      "value": 1
     }
    },
    "2e7c93fcdf6949cb94b78d2a4ed47acf": {
     "model_module": "@jupyter-widgets/base",
     "model_module_version": "1.2.0",
     "model_name": "LayoutModel",
     "state": {
      "_model_module": "@jupyter-widgets/base",
      "_model_module_version": "1.2.0",
      "_model_name": "LayoutModel",
      "_view_count": null,
      "_view_module": "@jupyter-widgets/base",
      "_view_module_version": "1.2.0",
      "_view_name": "LayoutView",
      "align_content": null,
      "align_items": null,
      "align_self": null,
      "border": null,
      "bottom": null,
      "display": "inline-flex",
      "flex": null,
      "flex_flow": "row wrap",
      "grid_area": null,
      "grid_auto_columns": null,
      "grid_auto_flow": null,
      "grid_auto_rows": null,
      "grid_column": null,
      "grid_gap": null,
      "grid_row": null,
      "grid_template_areas": null,
      "grid_template_columns": null,
      "grid_template_rows": null,
      "height": null,
      "justify_content": null,
      "justify_items": null,
      "left": null,
      "margin": null,
      "max_height": null,
      "max_width": null,
      "min_height": null,
      "min_width": null,
      "object_fit": null,
      "object_position": null,
      "order": null,
      "overflow": null,
      "overflow_x": null,
      "overflow_y": null,
      "padding": null,
      "right": null,
      "top": null,
      "visibility": null,
      "width": "100%"
     }
    },
    "339d5ab6bc1e42a8ac25e9ded6f5c982": {
     "model_module": "@jupyter-widgets/base",
     "model_module_version": "1.2.0",
     "model_name": "LayoutModel",
     "state": {
      "_model_module": "@jupyter-widgets/base",
      "_model_module_version": "1.2.0",
      "_model_name": "LayoutModel",
      "_view_count": null,
      "_view_module": "@jupyter-widgets/base",
      "_view_module_version": "1.2.0",
      "_view_name": "LayoutView",
      "align_content": null,
      "align_items": null,
      "align_self": null,
      "border": null,
      "bottom": null,
      "display": null,
      "flex": "2",
      "flex_flow": null,
      "grid_area": null,
      "grid_auto_columns": null,
      "grid_auto_flow": null,
      "grid_auto_rows": null,
      "grid_column": null,
      "grid_gap": null,
      "grid_row": null,
      "grid_template_areas": null,
      "grid_template_columns": null,
      "grid_template_rows": null,
      "height": null,
      "justify_content": null,
      "justify_items": null,
      "left": null,
      "margin": null,
      "max_height": null,
      "max_width": null,
      "min_height": null,
      "min_width": null,
      "object_fit": null,
      "object_position": null,
      "order": null,
      "overflow": null,
      "overflow_x": null,
      "overflow_y": null,
      "padding": null,
      "right": null,
      "top": null,
      "visibility": null,
      "width": null
     }
    },
    "34da01d3a7f143a0aeb6120e44010dcb": {
     "model_module": "@jupyter-widgets/base",
     "model_module_version": "1.2.0",
     "model_name": "LayoutModel",
     "state": {
      "_model_module": "@jupyter-widgets/base",
      "_model_module_version": "1.2.0",
      "_model_name": "LayoutModel",
      "_view_count": null,
      "_view_module": "@jupyter-widgets/base",
      "_view_module_version": "1.2.0",
      "_view_name": "LayoutView",
      "align_content": null,
      "align_items": null,
      "align_self": null,
      "border": null,
      "bottom": null,
      "display": null,
      "flex": null,
      "flex_flow": null,
      "grid_area": null,
      "grid_auto_columns": null,
      "grid_auto_flow": null,
      "grid_auto_rows": null,
      "grid_column": null,
      "grid_gap": null,
      "grid_row": null,
      "grid_template_areas": null,
      "grid_template_columns": null,
      "grid_template_rows": null,
      "height": null,
      "justify_content": null,
      "justify_items": null,
      "left": null,
      "margin": null,
      "max_height": null,
      "max_width": null,
      "min_height": null,
      "min_width": null,
      "object_fit": null,
      "object_position": null,
      "order": null,
      "overflow": null,
      "overflow_x": null,
      "overflow_y": null,
      "padding": null,
      "right": null,
      "top": null,
      "visibility": null,
      "width": null
     }
    },
    "3a878d4b7bb1492b8546875bf0505f32": {
     "model_module": "@jupyter-widgets/controls",
     "model_module_version": "1.5.0",
     "model_name": "HTMLModel",
     "state": {
      "_dom_classes": [],
      "_model_module": "@jupyter-widgets/controls",
      "_model_module_version": "1.5.0",
      "_model_name": "HTMLModel",
      "_view_count": null,
      "_view_module": "@jupyter-widgets/controls",
      "_view_module_version": "1.5.0",
      "_view_name": "HTMLView",
      "description": "",
      "description_tooltip": null,
      "layout": "IPY_MODEL_225ffb8b8c324e8aab56a6e802c48a42",
      "placeholder": "​",
      "style": "IPY_MODEL_202c59070247475f9e7d128fa1f52aaa",
      "value": "Validation DataLoader 0: 100%"
     }
    },
    "3ae6b6e66cda452dbc74cc743955e096": {
     "model_module": "@jupyter-widgets/controls",
     "model_module_version": "1.5.0",
     "model_name": "DescriptionStyleModel",
     "state": {
      "_model_module": "@jupyter-widgets/controls",
      "_model_module_version": "1.5.0",
      "_model_name": "DescriptionStyleModel",
      "_view_count": null,
      "_view_module": "@jupyter-widgets/base",
      "_view_module_version": "1.2.0",
      "_view_name": "StyleView",
      "description_width": ""
     }
    },
    "418eb5973d7c4261ac2c34e2c41f151c": {
     "model_module": "@jupyter-widgets/controls",
     "model_module_version": "1.5.0",
     "model_name": "HTMLModel",
     "state": {
      "_dom_classes": [],
      "_model_module": "@jupyter-widgets/controls",
      "_model_module_version": "1.5.0",
      "_model_name": "HTMLModel",
      "_view_count": null,
      "_view_module": "@jupyter-widgets/controls",
      "_view_module_version": "1.5.0",
      "_view_name": "HTMLView",
      "description": "",
      "description_tooltip": null,
      "layout": "IPY_MODEL_d6a8b62cdbeb457e982e526f526679fc",
      "placeholder": "​",
      "style": "IPY_MODEL_7a11ef5cc8a747f9b6d09b2334410916",
      "value": " 1/1 [00:00&lt;00:00,  1.45it/s]"
     }
    },
    "421a0e9d98244d838d0fb83d4e59f203": {
     "model_module": "@jupyter-widgets/controls",
     "model_module_version": "1.5.0",
     "model_name": "DescriptionStyleModel",
     "state": {
      "_model_module": "@jupyter-widgets/controls",
      "_model_module_version": "1.5.0",
      "_model_name": "DescriptionStyleModel",
      "_view_count": null,
      "_view_module": "@jupyter-widgets/base",
      "_view_module_version": "1.2.0",
      "_view_name": "StyleView",
      "description_width": ""
     }
    },
    "4499ad06aee048cdae659e6e381a2181": {
     "model_module": "@jupyter-widgets/controls",
     "model_module_version": "1.5.0",
     "model_name": "DescriptionStyleModel",
     "state": {
      "_model_module": "@jupyter-widgets/controls",
      "_model_module_version": "1.5.0",
      "_model_name": "DescriptionStyleModel",
      "_view_count": null,
      "_view_module": "@jupyter-widgets/base",
      "_view_module_version": "1.2.0",
      "_view_name": "StyleView",
      "description_width": ""
     }
    },
    "48483b1201654820b66ee1409caa41d4": {
     "model_module": "@jupyter-widgets/controls",
     "model_module_version": "1.5.0",
     "model_name": "HTMLModel",
     "state": {
      "_dom_classes": [],
      "_model_module": "@jupyter-widgets/controls",
      "_model_module_version": "1.5.0",
      "_model_name": "HTMLModel",
      "_view_count": null,
      "_view_module": "@jupyter-widgets/controls",
      "_view_module_version": "1.5.0",
      "_view_name": "HTMLView",
      "description": "",
      "description_tooltip": null,
      "layout": "IPY_MODEL_114eba7fccb343e98f1c1e3dd7078f22",
      "placeholder": "​",
      "style": "IPY_MODEL_421a0e9d98244d838d0fb83d4e59f203",
      "value": "Predicting DataLoader 0: 100%"
     }
    },
    "4faaf9df703840ad8c82b25053e110d8": {
     "model_module": "@jupyter-widgets/controls",
     "model_module_version": "1.5.0",
     "model_name": "HTMLModel",
     "state": {
      "_dom_classes": [],
      "_model_module": "@jupyter-widgets/controls",
      "_model_module_version": "1.5.0",
      "_model_name": "HTMLModel",
      "_view_count": null,
      "_view_module": "@jupyter-widgets/controls",
      "_view_module_version": "1.5.0",
      "_view_name": "HTMLView",
      "description": "",
      "description_tooltip": null,
      "layout": "IPY_MODEL_34da01d3a7f143a0aeb6120e44010dcb",
      "placeholder": "​",
      "style": "IPY_MODEL_59df9021039e4001a458599eb7e0016f",
      "value": " 1/1 [00:00&lt;00:00, 11.75it/s]"
     }
    },
    "530ce8fc0c6b4116935ee625e18f2cdd": {
     "model_module": "@jupyter-widgets/controls",
     "model_module_version": "1.5.0",
     "model_name": "HTMLModel",
     "state": {
      "_dom_classes": [],
      "_model_module": "@jupyter-widgets/controls",
      "_model_module_version": "1.5.0",
      "_model_name": "HTMLModel",
      "_view_count": null,
      "_view_module": "@jupyter-widgets/controls",
      "_view_module_version": "1.5.0",
      "_view_name": "HTMLView",
      "description": "",
      "description_tooltip": null,
      "layout": "IPY_MODEL_7445bb0d5a094bbfa5bb273d2c609077",
      "placeholder": "​",
      "style": "IPY_MODEL_de6f2b723a5e4f27ba2e096d246c7ebf",
      "value": " 125/125 [00:10&lt;00:00, 12.38it/s]"
     }
    },
    "58818b833bb040c3bf1eaf36bf2422bd": {
     "model_module": "@jupyter-widgets/controls",
     "model_module_version": "1.5.0",
     "model_name": "HTMLModel",
     "state": {
      "_dom_classes": [],
      "_model_module": "@jupyter-widgets/controls",
      "_model_module_version": "1.5.0",
      "_model_name": "HTMLModel",
      "_view_count": null,
      "_view_module": "@jupyter-widgets/controls",
      "_view_module_version": "1.5.0",
      "_view_name": "HTMLView",
      "description": "",
      "description_tooltip": null,
      "layout": "IPY_MODEL_24a766eca24f43a3bb507e8aecab06d1",
      "placeholder": "​",
      "style": "IPY_MODEL_4499ad06aee048cdae659e6e381a2181",
      "value": " 1/1 [00:00&lt;00:00, 10.55it/s]"
     }
    },
    "59df9021039e4001a458599eb7e0016f": {
     "model_module": "@jupyter-widgets/controls",
     "model_module_version": "1.5.0",
     "model_name": "DescriptionStyleModel",
     "state": {
      "_model_module": "@jupyter-widgets/controls",
      "_model_module_version": "1.5.0",
      "_model_name": "DescriptionStyleModel",
      "_view_count": null,
      "_view_module": "@jupyter-widgets/base",
      "_view_module_version": "1.2.0",
      "_view_name": "StyleView",
      "description_width": ""
     }
    },
    "5cf9436102b4422eb898cd2e3dc6afd2": {
     "model_module": "@jupyter-widgets/controls",
     "model_module_version": "1.5.0",
     "model_name": "FloatProgressModel",
     "state": {
      "_dom_classes": [],
      "_model_module": "@jupyter-widgets/controls",
      "_model_module_version": "1.5.0",
      "_model_name": "FloatProgressModel",
      "_view_count": null,
      "_view_module": "@jupyter-widgets/controls",
      "_view_module_version": "1.5.0",
      "_view_name": "ProgressView",
      "bar_style": "success",
      "description": "",
      "description_tooltip": null,
      "layout": "IPY_MODEL_339d5ab6bc1e42a8ac25e9ded6f5c982",
      "max": 125,
      "min": 0,
      "orientation": "horizontal",
      "style": "IPY_MODEL_ec5fe8352cde4cb28057c7211dbac446",
      "value": 125
     }
    },
    "5f857eb9d82c4516852013697b7b2a33": {
     "model_module": "@jupyter-widgets/controls",
     "model_module_version": "1.5.0",
     "model_name": "HTMLModel",
     "state": {
      "_dom_classes": [],
      "_model_module": "@jupyter-widgets/controls",
      "_model_module_version": "1.5.0",
      "_model_name": "HTMLModel",
      "_view_count": null,
      "_view_module": "@jupyter-widgets/controls",
      "_view_module_version": "1.5.0",
      "_view_name": "HTMLView",
      "description": "",
      "description_tooltip": null,
      "layout": "IPY_MODEL_c8a0553991b84fecb559fc82f1c83716",
      "placeholder": "​",
      "style": "IPY_MODEL_76e2e1096787416e9e6958bf3f99427b",
      "value": "Epoch 0: 100%"
     }
    },
    "656362cb146d4cbca896a05b774e85c7": {
     "model_module": "@jupyter-widgets/controls",
     "model_module_version": "1.5.0",
     "model_name": "ProgressStyleModel",
     "state": {
      "_model_module": "@jupyter-widgets/controls",
      "_model_module_version": "1.5.0",
      "_model_name": "ProgressStyleModel",
      "_view_count": null,
      "_view_module": "@jupyter-widgets/base",
      "_view_module_version": "1.2.0",
      "_view_name": "StyleView",
      "bar_color": null,
      "description_width": ""
     }
    },
    "68ff6f7562074ecba42b375562319146": {
     "model_module": "@jupyter-widgets/controls",
     "model_module_version": "1.5.0",
     "model_name": "HTMLModel",
     "state": {
      "_dom_classes": [],
      "_model_module": "@jupyter-widgets/controls",
      "_model_module_version": "1.5.0",
      "_model_name": "HTMLModel",
      "_view_count": null,
      "_view_module": "@jupyter-widgets/controls",
      "_view_module_version": "1.5.0",
      "_view_name": "HTMLView",
      "description": "",
      "description_tooltip": null,
      "layout": "IPY_MODEL_89847e18e05e4a49b2a50771eb918cac",
      "placeholder": "​",
      "style": "IPY_MODEL_23a220b5bed2452a9ecc684a04ddd5f4",
      "value": " 125/125 [00:09&lt;00:00, 13.76it/s]"
     }
    },
    "6dbcb04f5a45479f8d15706782d3d2ca": {
     "model_module": "@jupyter-widgets/base",
     "model_module_version": "1.2.0",
     "model_name": "LayoutModel",
     "state": {
      "_model_module": "@jupyter-widgets/base",
      "_model_module_version": "1.2.0",
      "_model_name": "LayoutModel",
      "_view_count": null,
      "_view_module": "@jupyter-widgets/base",
      "_view_module_version": "1.2.0",
      "_view_name": "LayoutView",
      "align_content": null,
      "align_items": null,
      "align_self": null,
      "border": null,
      "bottom": null,
      "display": null,
      "flex": "2",
      "flex_flow": null,
      "grid_area": null,
      "grid_auto_columns": null,
      "grid_auto_flow": null,
      "grid_auto_rows": null,
      "grid_column": null,
      "grid_gap": null,
      "grid_row": null,
      "grid_template_areas": null,
      "grid_template_columns": null,
      "grid_template_rows": null,
      "height": null,
      "justify_content": null,
      "justify_items": null,
      "left": null,
      "margin": null,
      "max_height": null,
      "max_width": null,
      "min_height": null,
      "min_width": null,
      "object_fit": null,
      "object_position": null,
      "order": null,
      "overflow": null,
      "overflow_x": null,
      "overflow_y": null,
      "padding": null,
      "right": null,
      "top": null,
      "visibility": null,
      "width": null
     }
    },
    "6e4cc5e678e741cfa77469854b833cda": {
     "model_module": "@jupyter-widgets/controls",
     "model_module_version": "1.5.0",
     "model_name": "HBoxModel",
     "state": {
      "_dom_classes": [],
      "_model_module": "@jupyter-widgets/controls",
      "_model_module_version": "1.5.0",
      "_model_name": "HBoxModel",
      "_view_count": null,
      "_view_module": "@jupyter-widgets/controls",
      "_view_module_version": "1.5.0",
      "_view_name": "HBoxView",
      "box_style": "",
      "children": [
       "IPY_MODEL_2b6be8fc27ad491380d1b809e4776f97",
       "IPY_MODEL_e45440b610754d5d829f67bb66667e0a",
       "IPY_MODEL_68ff6f7562074ecba42b375562319146"
      ],
      "layout": "IPY_MODEL_7f59b01247cb42f390d80c6af6f708c2"
     }
    },
    "6ef1e62d1a164cfdae338fb12e9ff362": {
     "model_module": "@jupyter-widgets/controls",
     "model_module_version": "1.5.0",
     "model_name": "DescriptionStyleModel",
     "state": {
      "_model_module": "@jupyter-widgets/controls",
      "_model_module_version": "1.5.0",
      "_model_name": "DescriptionStyleModel",
      "_view_count": null,
      "_view_module": "@jupyter-widgets/base",
      "_view_module_version": "1.2.0",
      "_view_name": "StyleView",
      "description_width": ""
     }
    },
    "703d94e0e755464790122187520b1e74": {
     "model_module": "@jupyter-widgets/controls",
     "model_module_version": "1.5.0",
     "model_name": "ProgressStyleModel",
     "state": {
      "_model_module": "@jupyter-widgets/controls",
      "_model_module_version": "1.5.0",
      "_model_name": "ProgressStyleModel",
      "_view_count": null,
      "_view_module": "@jupyter-widgets/base",
      "_view_module_version": "1.2.0",
      "_view_name": "StyleView",
      "bar_color": null,
      "description_width": ""
     }
    },
    "7445bb0d5a094bbfa5bb273d2c609077": {
     "model_module": "@jupyter-widgets/base",
     "model_module_version": "1.2.0",
     "model_name": "LayoutModel",
     "state": {
      "_model_module": "@jupyter-widgets/base",
      "_model_module_version": "1.2.0",
      "_model_name": "LayoutModel",
      "_view_count": null,
      "_view_module": "@jupyter-widgets/base",
      "_view_module_version": "1.2.0",
      "_view_name": "LayoutView",
      "align_content": null,
      "align_items": null,
      "align_self": null,
      "border": null,
      "bottom": null,
      "display": null,
      "flex": null,
      "flex_flow": null,
      "grid_area": null,
      "grid_auto_columns": null,
      "grid_auto_flow": null,
      "grid_auto_rows": null,
      "grid_column": null,
      "grid_gap": null,
      "grid_row": null,
      "grid_template_areas": null,
      "grid_template_columns": null,
      "grid_template_rows": null,
      "height": null,
      "justify_content": null,
      "justify_items": null,
      "left": null,
      "margin": null,
      "max_height": null,
      "max_width": null,
      "min_height": null,
      "min_width": null,
      "object_fit": null,
      "object_position": null,
      "order": null,
      "overflow": null,
      "overflow_x": null,
      "overflow_y": null,
      "padding": null,
      "right": null,
      "top": null,
      "visibility": null,
      "width": null
     }
    },
    "76e2e1096787416e9e6958bf3f99427b": {
     "model_module": "@jupyter-widgets/controls",
     "model_module_version": "1.5.0",
     "model_name": "DescriptionStyleModel",
     "state": {
      "_model_module": "@jupyter-widgets/controls",
      "_model_module_version": "1.5.0",
      "_model_name": "DescriptionStyleModel",
      "_view_count": null,
      "_view_module": "@jupyter-widgets/base",
      "_view_module_version": "1.2.0",
      "_view_name": "StyleView",
      "description_width": ""
     }
    },
    "770023d84e5e475cba53504ef1d686f2": {
     "model_module": "@jupyter-widgets/base",
     "model_module_version": "1.2.0",
     "model_name": "LayoutModel",
     "state": {
      "_model_module": "@jupyter-widgets/base",
      "_model_module_version": "1.2.0",
      "_model_name": "LayoutModel",
      "_view_count": null,
      "_view_module": "@jupyter-widgets/base",
      "_view_module_version": "1.2.0",
      "_view_name": "LayoutView",
      "align_content": null,
      "align_items": null,
      "align_self": null,
      "border": null,
      "bottom": null,
      "display": "inline-flex",
      "flex": null,
      "flex_flow": "row wrap",
      "grid_area": null,
      "grid_auto_columns": null,
      "grid_auto_flow": null,
      "grid_auto_rows": null,
      "grid_column": null,
      "grid_gap": null,
      "grid_row": null,
      "grid_template_areas": null,
      "grid_template_columns": null,
      "grid_template_rows": null,
      "height": null,
      "justify_content": null,
      "justify_items": null,
      "left": null,
      "margin": null,
      "max_height": null,
      "max_width": null,
      "min_height": null,
      "min_width": null,
      "object_fit": null,
      "object_position": null,
      "order": null,
      "overflow": null,
      "overflow_x": null,
      "overflow_y": null,
      "padding": null,
      "right": null,
      "top": null,
      "visibility": null,
      "width": "100%"
     }
    },
    "7a11ef5cc8a747f9b6d09b2334410916": {
     "model_module": "@jupyter-widgets/controls",
     "model_module_version": "1.5.0",
     "model_name": "DescriptionStyleModel",
     "state": {
      "_model_module": "@jupyter-widgets/controls",
      "_model_module_version": "1.5.0",
      "_model_name": "DescriptionStyleModel",
      "_view_count": null,
      "_view_module": "@jupyter-widgets/base",
      "_view_module_version": "1.2.0",
      "_view_name": "StyleView",
      "description_width": ""
     }
    },
    "7f59b01247cb42f390d80c6af6f708c2": {
     "model_module": "@jupyter-widgets/base",
     "model_module_version": "1.2.0",
     "model_name": "LayoutModel",
     "state": {
      "_model_module": "@jupyter-widgets/base",
      "_model_module_version": "1.2.0",
      "_model_name": "LayoutModel",
      "_view_count": null,
      "_view_module": "@jupyter-widgets/base",
      "_view_module_version": "1.2.0",
      "_view_name": "LayoutView",
      "align_content": null,
      "align_items": null,
      "align_self": null,
      "border": null,
      "bottom": null,
      "display": "inline-flex",
      "flex": null,
      "flex_flow": "row wrap",
      "grid_area": null,
      "grid_auto_columns": null,
      "grid_auto_flow": null,
      "grid_auto_rows": null,
      "grid_column": null,
      "grid_gap": null,
      "grid_row": null,
      "grid_template_areas": null,
      "grid_template_columns": null,
      "grid_template_rows": null,
      "height": null,
      "justify_content": null,
      "justify_items": null,
      "left": null,
      "margin": null,
      "max_height": null,
      "max_width": null,
      "min_height": null,
      "min_width": null,
      "object_fit": null,
      "object_position": null,
      "order": null,
      "overflow": null,
      "overflow_x": null,
      "overflow_y": null,
      "padding": null,
      "right": null,
      "top": null,
      "visibility": null,
      "width": "100%"
     }
    },
    "89847e18e05e4a49b2a50771eb918cac": {
     "model_module": "@jupyter-widgets/base",
     "model_module_version": "1.2.0",
     "model_name": "LayoutModel",
     "state": {
      "_model_module": "@jupyter-widgets/base",
      "_model_module_version": "1.2.0",
      "_model_name": "LayoutModel",
      "_view_count": null,
      "_view_module": "@jupyter-widgets/base",
      "_view_module_version": "1.2.0",
      "_view_name": "LayoutView",
      "align_content": null,
      "align_items": null,
      "align_self": null,
      "border": null,
      "bottom": null,
      "display": null,
      "flex": null,
      "flex_flow": null,
      "grid_area": null,
      "grid_auto_columns": null,
      "grid_auto_flow": null,
      "grid_auto_rows": null,
      "grid_column": null,
      "grid_gap": null,
      "grid_row": null,
      "grid_template_areas": null,
      "grid_template_columns": null,
      "grid_template_rows": null,
      "height": null,
      "justify_content": null,
      "justify_items": null,
      "left": null,
      "margin": null,
      "max_height": null,
      "max_width": null,
      "min_height": null,
      "min_width": null,
      "object_fit": null,
      "object_position": null,
      "order": null,
      "overflow": null,
      "overflow_x": null,
      "overflow_y": null,
      "padding": null,
      "right": null,
      "top": null,
      "visibility": null,
      "width": null
     }
    },
    "8ac86a2e83d94196a900512bf94c6ad6": {
     "model_module": "@jupyter-widgets/base",
     "model_module_version": "1.2.0",
     "model_name": "LayoutModel",
     "state": {
      "_model_module": "@jupyter-widgets/base",
      "_model_module_version": "1.2.0",
      "_model_name": "LayoutModel",
      "_view_count": null,
      "_view_module": "@jupyter-widgets/base",
      "_view_module_version": "1.2.0",
      "_view_name": "LayoutView",
      "align_content": null,
      "align_items": null,
      "align_self": null,
      "border": null,
      "bottom": null,
      "display": null,
      "flex": null,
      "flex_flow": null,
      "grid_area": null,
      "grid_auto_columns": null,
      "grid_auto_flow": null,
      "grid_auto_rows": null,
      "grid_column": null,
      "grid_gap": null,
      "grid_row": null,
      "grid_template_areas": null,
      "grid_template_columns": null,
      "grid_template_rows": null,
      "height": null,
      "justify_content": null,
      "justify_items": null,
      "left": null,
      "margin": null,
      "max_height": null,
      "max_width": null,
      "min_height": null,
      "min_width": null,
      "object_fit": null,
      "object_position": null,
      "order": null,
      "overflow": null,
      "overflow_x": null,
      "overflow_y": null,
      "padding": null,
      "right": null,
      "top": null,
      "visibility": null,
      "width": null
     }
    },
    "9309dde76b844b5eaf67bd50a56cd624": {
     "model_module": "@jupyter-widgets/base",
     "model_module_version": "1.2.0",
     "model_name": "LayoutModel",
     "state": {
      "_model_module": "@jupyter-widgets/base",
      "_model_module_version": "1.2.0",
      "_model_name": "LayoutModel",
      "_view_count": null,
      "_view_module": "@jupyter-widgets/base",
      "_view_module_version": "1.2.0",
      "_view_name": "LayoutView",
      "align_content": null,
      "align_items": null,
      "align_self": null,
      "border": null,
      "bottom": null,
      "display": null,
      "flex": "2",
      "flex_flow": null,
      "grid_area": null,
      "grid_auto_columns": null,
      "grid_auto_flow": null,
      "grid_auto_rows": null,
      "grid_column": null,
      "grid_gap": null,
      "grid_row": null,
      "grid_template_areas": null,
      "grid_template_columns": null,
      "grid_template_rows": null,
      "height": null,
      "justify_content": null,
      "justify_items": null,
      "left": null,
      "margin": null,
      "max_height": null,
      "max_width": null,
      "min_height": null,
      "min_width": null,
      "object_fit": null,
      "object_position": null,
      "order": null,
      "overflow": null,
      "overflow_x": null,
      "overflow_y": null,
      "padding": null,
      "right": null,
      "top": null,
      "visibility": null,
      "width": null
     }
    },
    "956c96a1934c466ab7335ed22b3e0567": {
     "model_module": "@jupyter-widgets/controls",
     "model_module_version": "1.5.0",
     "model_name": "FloatProgressModel",
     "state": {
      "_dom_classes": [],
      "_model_module": "@jupyter-widgets/controls",
      "_model_module_version": "1.5.0",
      "_model_name": "FloatProgressModel",
      "_view_count": null,
      "_view_module": "@jupyter-widgets/controls",
      "_view_module_version": "1.5.0",
      "_view_name": "ProgressView",
      "bar_style": "success",
      "description": "",
      "description_tooltip": null,
      "layout": "IPY_MODEL_dd07e032758a45a99089fc8b7576cf76",
      "max": 1,
      "min": 0,
      "orientation": "horizontal",
      "style": "IPY_MODEL_d40355b4414545aab41537a25b7f767b",
      "value": 1
     }
    },
    "962d81661e2b4edda53dab8695013332": {
     "model_module": "@jupyter-widgets/controls",
     "model_module_version": "1.5.0",
     "model_name": "ProgressStyleModel",
     "state": {
      "_model_module": "@jupyter-widgets/controls",
      "_model_module_version": "1.5.0",
      "_model_name": "ProgressStyleModel",
      "_view_count": null,
      "_view_module": "@jupyter-widgets/base",
      "_view_module_version": "1.2.0",
      "_view_name": "StyleView",
      "bar_color": null,
      "description_width": ""
     }
    },
    "9702482011074a8c99ae7b0335066270": {
     "model_module": "@jupyter-widgets/controls",
     "model_module_version": "1.5.0",
     "model_name": "DescriptionStyleModel",
     "state": {
      "_model_module": "@jupyter-widgets/controls",
      "_model_module_version": "1.5.0",
      "_model_name": "DescriptionStyleModel",
      "_view_count": null,
      "_view_module": "@jupyter-widgets/base",
      "_view_module_version": "1.2.0",
      "_view_name": "StyleView",
      "description_width": ""
     }
    },
    "97887364d80f4d568d36ea4ac3ad2bab": {
     "model_module": "@jupyter-widgets/controls",
     "model_module_version": "1.5.0",
     "model_name": "FloatProgressModel",
     "state": {
      "_dom_classes": [],
      "_model_module": "@jupyter-widgets/controls",
      "_model_module_version": "1.5.0",
      "_model_name": "FloatProgressModel",
      "_view_count": null,
      "_view_module": "@jupyter-widgets/controls",
      "_view_module_version": "1.5.0",
      "_view_name": "ProgressView",
      "bar_style": "success",
      "description": "",
      "description_tooltip": null,
      "layout": "IPY_MODEL_6dbcb04f5a45479f8d15706782d3d2ca",
      "max": 1,
      "min": 0,
      "orientation": "horizontal",
      "style": "IPY_MODEL_656362cb146d4cbca896a05b774e85c7",
      "value": 1
     }
    },
    "9ae719eac5214df7922892388f8d52e7": {
     "model_module": "@jupyter-widgets/base",
     "model_module_version": "1.2.0",
     "model_name": "LayoutModel",
     "state": {
      "_model_module": "@jupyter-widgets/base",
      "_model_module_version": "1.2.0",
      "_model_name": "LayoutModel",
      "_view_count": null,
      "_view_module": "@jupyter-widgets/base",
      "_view_module_version": "1.2.0",
      "_view_name": "LayoutView",
      "align_content": null,
      "align_items": null,
      "align_self": null,
      "border": null,
      "bottom": null,
      "display": "inline-flex",
      "flex": null,
      "flex_flow": "row wrap",
      "grid_area": null,
      "grid_auto_columns": null,
      "grid_auto_flow": null,
      "grid_auto_rows": null,
      "grid_column": null,
      "grid_gap": null,
      "grid_row": null,
      "grid_template_areas": null,
      "grid_template_columns": null,
      "grid_template_rows": null,
      "height": null,
      "justify_content": null,
      "justify_items": null,
      "left": null,
      "margin": null,
      "max_height": null,
      "max_width": null,
      "min_height": null,
      "min_width": null,
      "object_fit": null,
      "object_position": null,
      "order": null,
      "overflow": null,
      "overflow_x": null,
      "overflow_y": null,
      "padding": null,
      "right": null,
      "top": null,
      "visibility": "hidden",
      "width": "100%"
     }
    },
    "a4b8cf2a046548fab30ed1cdf0e58de0": {
     "model_module": "@jupyter-widgets/controls",
     "model_module_version": "1.5.0",
     "model_name": "HBoxModel",
     "state": {
      "_dom_classes": [],
      "_model_module": "@jupyter-widgets/controls",
      "_model_module_version": "1.5.0",
      "_model_name": "HBoxModel",
      "_view_count": null,
      "_view_module": "@jupyter-widgets/controls",
      "_view_module_version": "1.5.0",
      "_view_name": "HBoxView",
      "box_style": "",
      "children": [
       "IPY_MODEL_48483b1201654820b66ee1409caa41d4",
       "IPY_MODEL_97887364d80f4d568d36ea4ac3ad2bab",
       "IPY_MODEL_4faaf9df703840ad8c82b25053e110d8"
      ],
      "layout": "IPY_MODEL_ee0ab14389904c1385fda6770a80fafc"
     }
    },
    "a5fdff5ae4f245ce866f3bba4803a86a": {
     "model_module": "@jupyter-widgets/controls",
     "model_module_version": "1.5.0",
     "model_name": "HTMLModel",
     "state": {
      "_dom_classes": [],
      "_model_module": "@jupyter-widgets/controls",
      "_model_module_version": "1.5.0",
      "_model_name": "HTMLModel",
      "_view_count": null,
      "_view_module": "@jupyter-widgets/controls",
      "_view_module_version": "1.5.0",
      "_view_name": "HTMLView",
      "description": "",
      "description_tooltip": null,
      "layout": "IPY_MODEL_ae92f18a13234c8a93a63407a671b73e",
      "placeholder": "​",
      "style": "IPY_MODEL_6ef1e62d1a164cfdae338fb12e9ff362",
      "value": "Testing: "
     }
    },
    "ae92f18a13234c8a93a63407a671b73e": {
     "model_module": "@jupyter-widgets/base",
     "model_module_version": "1.2.0",
     "model_name": "LayoutModel",
     "state": {
      "_model_module": "@jupyter-widgets/base",
      "_model_module_version": "1.2.0",
      "_model_name": "LayoutModel",
      "_view_count": null,
      "_view_module": "@jupyter-widgets/base",
      "_view_module_version": "1.2.0",
      "_view_name": "LayoutView",
      "align_content": null,
      "align_items": null,
      "align_self": null,
      "border": null,
      "bottom": null,
      "display": null,
      "flex": null,
      "flex_flow": null,
      "grid_area": null,
      "grid_auto_columns": null,
      "grid_auto_flow": null,
      "grid_auto_rows": null,
      "grid_column": null,
      "grid_gap": null,
      "grid_row": null,
      "grid_template_areas": null,
      "grid_template_columns": null,
      "grid_template_rows": null,
      "height": null,
      "justify_content": null,
      "justify_items": null,
      "left": null,
      "margin": null,
      "max_height": null,
      "max_width": null,
      "min_height": null,
      "min_width": null,
      "object_fit": null,
      "object_position": null,
      "order": null,
      "overflow": null,
      "overflow_x": null,
      "overflow_y": null,
      "padding": null,
      "right": null,
      "top": null,
      "visibility": null,
      "width": null
     }
    },
    "b8591ea36eda4189ac03c9a492aea257": {
     "model_module": "@jupyter-widgets/base",
     "model_module_version": "1.2.0",
     "model_name": "LayoutModel",
     "state": {
      "_model_module": "@jupyter-widgets/base",
      "_model_module_version": "1.2.0",
      "_model_name": "LayoutModel",
      "_view_count": null,
      "_view_module": "@jupyter-widgets/base",
      "_view_module_version": "1.2.0",
      "_view_name": "LayoutView",
      "align_content": null,
      "align_items": null,
      "align_self": null,
      "border": null,
      "bottom": null,
      "display": null,
      "flex": null,
      "flex_flow": null,
      "grid_area": null,
      "grid_auto_columns": null,
      "grid_auto_flow": null,
      "grid_auto_rows": null,
      "grid_column": null,
      "grid_gap": null,
      "grid_row": null,
      "grid_template_areas": null,
      "grid_template_columns": null,
      "grid_template_rows": null,
      "height": null,
      "justify_content": null,
      "justify_items": null,
      "left": null,
      "margin": null,
      "max_height": null,
      "max_width": null,
      "min_height": null,
      "min_width": null,
      "object_fit": null,
      "object_position": null,
      "order": null,
      "overflow": null,
      "overflow_x": null,
      "overflow_y": null,
      "padding": null,
      "right": null,
      "top": null,
      "visibility": null,
      "width": null
     }
    },
    "c1676742fa5242ff81800168025b402e": {
     "model_module": "@jupyter-widgets/controls",
     "model_module_version": "1.5.0",
     "model_name": "HBoxModel",
     "state": {
      "_dom_classes": [],
      "_model_module": "@jupyter-widgets/controls",
      "_model_module_version": "1.5.0",
      "_model_name": "HBoxModel",
      "_view_count": null,
      "_view_module": "@jupyter-widgets/controls",
      "_view_module_version": "1.5.0",
      "_view_name": "HBoxView",
      "box_style": "",
      "children": [
       "IPY_MODEL_a5fdff5ae4f245ce866f3bba4803a86a",
       "IPY_MODEL_e064e48b647244bb8d54c0705ee70805",
       "IPY_MODEL_e1bcad1a444e4312b2a9a33492450102"
      ],
      "layout": "IPY_MODEL_c56bc6ceee4045ae989e704576c3897a"
     }
    },
    "c56bc6ceee4045ae989e704576c3897a": {
     "model_module": "@jupyter-widgets/base",
     "model_module_version": "1.2.0",
     "model_name": "LayoutModel",
     "state": {
      "_model_module": "@jupyter-widgets/base",
      "_model_module_version": "1.2.0",
      "_model_name": "LayoutModel",
      "_view_count": null,
      "_view_module": "@jupyter-widgets/base",
      "_view_module_version": "1.2.0",
      "_view_name": "LayoutView",
      "align_content": null,
      "align_items": null,
      "align_self": null,
      "border": null,
      "bottom": null,
      "display": "inline-flex",
      "flex": null,
      "flex_flow": "row wrap",
      "grid_area": null,
      "grid_auto_columns": null,
      "grid_auto_flow": null,
      "grid_auto_rows": null,
      "grid_column": null,
      "grid_gap": null,
      "grid_row": null,
      "grid_template_areas": null,
      "grid_template_columns": null,
      "grid_template_rows": null,
      "height": null,
      "justify_content": null,
      "justify_items": null,
      "left": null,
      "margin": null,
      "max_height": null,
      "max_width": null,
      "min_height": null,
      "min_width": null,
      "object_fit": null,
      "object_position": null,
      "order": null,
      "overflow": null,
      "overflow_x": null,
      "overflow_y": null,
      "padding": null,
      "right": null,
      "top": null,
      "visibility": null,
      "width": "100%"
     }
    },
    "c8a0553991b84fecb559fc82f1c83716": {
     "model_module": "@jupyter-widgets/base",
     "model_module_version": "1.2.0",
     "model_name": "LayoutModel",
     "state": {
      "_model_module": "@jupyter-widgets/base",
      "_model_module_version": "1.2.0",
      "_model_name": "LayoutModel",
      "_view_count": null,
      "_view_module": "@jupyter-widgets/base",
      "_view_module_version": "1.2.0",
      "_view_name": "LayoutView",
      "align_content": null,
      "align_items": null,
      "align_self": null,
      "border": null,
      "bottom": null,
      "display": null,
      "flex": null,
      "flex_flow": null,
      "grid_area": null,
      "grid_auto_columns": null,
      "grid_auto_flow": null,
      "grid_auto_rows": null,
      "grid_column": null,
      "grid_gap": null,
      "grid_row": null,
      "grid_template_areas": null,
      "grid_template_columns": null,
      "grid_template_rows": null,
      "height": null,
      "justify_content": null,
      "justify_items": null,
      "left": null,
      "margin": null,
      "max_height": null,
      "max_width": null,
      "min_height": null,
      "min_width": null,
      "object_fit": null,
      "object_position": null,
      "order": null,
      "overflow": null,
      "overflow_x": null,
      "overflow_y": null,
      "padding": null,
      "right": null,
      "top": null,
      "visibility": null,
      "width": null
     }
    },
    "d40355b4414545aab41537a25b7f767b": {
     "model_module": "@jupyter-widgets/controls",
     "model_module_version": "1.5.0",
     "model_name": "ProgressStyleModel",
     "state": {
      "_model_module": "@jupyter-widgets/controls",
      "_model_module_version": "1.5.0",
      "_model_name": "ProgressStyleModel",
      "_view_count": null,
      "_view_module": "@jupyter-widgets/base",
      "_view_module_version": "1.2.0",
      "_view_name": "StyleView",
      "bar_color": null,
      "description_width": ""
     }
    },
    "d6a8b62cdbeb457e982e526f526679fc": {
     "model_module": "@jupyter-widgets/base",
     "model_module_version": "1.2.0",
     "model_name": "LayoutModel",
     "state": {
      "_model_module": "@jupyter-widgets/base",
      "_model_module_version": "1.2.0",
      "_model_name": "LayoutModel",
      "_view_count": null,
      "_view_module": "@jupyter-widgets/base",
      "_view_module_version": "1.2.0",
      "_view_name": "LayoutView",
      "align_content": null,
      "align_items": null,
      "align_self": null,
      "border": null,
      "bottom": null,
      "display": null,
      "flex": null,
      "flex_flow": null,
      "grid_area": null,
      "grid_auto_columns": null,
      "grid_auto_flow": null,
      "grid_auto_rows": null,
      "grid_column": null,
      "grid_gap": null,
      "grid_row": null,
      "grid_template_areas": null,
      "grid_template_columns": null,
      "grid_template_rows": null,
      "height": null,
      "justify_content": null,
      "justify_items": null,
      "left": null,
      "margin": null,
      "max_height": null,
      "max_width": null,
      "min_height": null,
      "min_width": null,
      "object_fit": null,
      "object_position": null,
      "order": null,
      "overflow": null,
      "overflow_x": null,
      "overflow_y": null,
      "padding": null,
      "right": null,
      "top": null,
      "visibility": null,
      "width": null
     }
    },
    "dd07e032758a45a99089fc8b7576cf76": {
     "model_module": "@jupyter-widgets/base",
     "model_module_version": "1.2.0",
     "model_name": "LayoutModel",
     "state": {
      "_model_module": "@jupyter-widgets/base",
      "_model_module_version": "1.2.0",
      "_model_name": "LayoutModel",
      "_view_count": null,
      "_view_module": "@jupyter-widgets/base",
      "_view_module_version": "1.2.0",
      "_view_name": "LayoutView",
      "align_content": null,
      "align_items": null,
      "align_self": null,
      "border": null,
      "bottom": null,
      "display": null,
      "flex": "2",
      "flex_flow": null,
      "grid_area": null,
      "grid_auto_columns": null,
      "grid_auto_flow": null,
      "grid_auto_rows": null,
      "grid_column": null,
      "grid_gap": null,
      "grid_row": null,
      "grid_template_areas": null,
      "grid_template_columns": null,
      "grid_template_rows": null,
      "height": null,
      "justify_content": null,
      "justify_items": null,
      "left": null,
      "margin": null,
      "max_height": null,
      "max_width": null,
      "min_height": null,
      "min_width": null,
      "object_fit": null,
      "object_position": null,
      "order": null,
      "overflow": null,
      "overflow_x": null,
      "overflow_y": null,
      "padding": null,
      "right": null,
      "top": null,
      "visibility": null,
      "width": null
     }
    },
    "de6f2b723a5e4f27ba2e096d246c7ebf": {
     "model_module": "@jupyter-widgets/controls",
     "model_module_version": "1.5.0",
     "model_name": "DescriptionStyleModel",
     "state": {
      "_model_module": "@jupyter-widgets/controls",
      "_model_module_version": "1.5.0",
      "_model_name": "DescriptionStyleModel",
      "_view_count": null,
      "_view_module": "@jupyter-widgets/base",
      "_view_module_version": "1.2.0",
      "_view_name": "StyleView",
      "description_width": ""
     }
    },
    "e064e48b647244bb8d54c0705ee70805": {
     "model_module": "@jupyter-widgets/controls",
     "model_module_version": "1.5.0",
     "model_name": "FloatProgressModel",
     "state": {
      "_dom_classes": [],
      "_model_module": "@jupyter-widgets/controls",
      "_model_module_version": "1.5.0",
      "_model_name": "FloatProgressModel",
      "_view_count": null,
      "_view_module": "@jupyter-widgets/controls",
      "_view_module_version": "1.5.0",
      "_view_name": "ProgressView",
      "bar_style": "success",
      "description": "",
      "description_tooltip": null,
      "layout": "IPY_MODEL_9309dde76b844b5eaf67bd50a56cd624",
      "max": 1,
      "min": 0,
      "orientation": "horizontal",
      "style": "IPY_MODEL_703d94e0e755464790122187520b1e74",
      "value": 0
     }
    },
    "e1bcad1a444e4312b2a9a33492450102": {
     "model_module": "@jupyter-widgets/controls",
     "model_module_version": "1.5.0",
     "model_name": "HTMLModel",
     "state": {
      "_dom_classes": [],
      "_model_module": "@jupyter-widgets/controls",
      "_model_module_version": "1.5.0",
      "_model_name": "HTMLModel",
      "_view_count": null,
      "_view_module": "@jupyter-widgets/controls",
      "_view_module_version": "1.5.0",
      "_view_name": "HTMLView",
      "description": "",
      "description_tooltip": null,
      "layout": "IPY_MODEL_b8591ea36eda4189ac03c9a492aea257",
      "placeholder": "​",
      "style": "IPY_MODEL_9702482011074a8c99ae7b0335066270",
      "value": " 0/? [00:00&lt;?, ?it/s]"
     }
    },
    "e245e8a2a27547bab9792a8d93790130": {
     "model_module": "@jupyter-widgets/controls",
     "model_module_version": "1.5.0",
     "model_name": "HBoxModel",
     "state": {
      "_dom_classes": [],
      "_model_module": "@jupyter-widgets/controls",
      "_model_module_version": "1.5.0",
      "_model_name": "HBoxModel",
      "_view_count": null,
      "_view_module": "@jupyter-widgets/controls",
      "_view_module_version": "1.5.0",
      "_view_name": "HBoxView",
      "box_style": "",
      "children": [
       "IPY_MODEL_5f857eb9d82c4516852013697b7b2a33",
       "IPY_MODEL_956c96a1934c466ab7335ed22b3e0567",
       "IPY_MODEL_418eb5973d7c4261ac2c34e2c41f151c"
      ],
      "layout": "IPY_MODEL_770023d84e5e475cba53504ef1d686f2"
     }
    },
    "e45440b610754d5d829f67bb66667e0a": {
     "model_module": "@jupyter-widgets/controls",
     "model_module_version": "1.5.0",
     "model_name": "FloatProgressModel",
     "state": {
      "_dom_classes": [],
      "_model_module": "@jupyter-widgets/controls",
      "_model_module_version": "1.5.0",
      "_model_name": "FloatProgressModel",
      "_view_count": null,
      "_view_module": "@jupyter-widgets/controls",
      "_view_module_version": "1.5.0",
      "_view_name": "ProgressView",
      "bar_style": "success",
      "description": "",
      "description_tooltip": null,
      "layout": "IPY_MODEL_0389d99a95264114a9c686be575a8583",
      "max": 125,
      "min": 0,
      "orientation": "horizontal",
      "style": "IPY_MODEL_e7c8eb27f8334f20ad402001a327c55c",
      "value": 125
     }
    },
    "e7c8eb27f8334f20ad402001a327c55c": {
     "model_module": "@jupyter-widgets/controls",
     "model_module_version": "1.5.0",
     "model_name": "ProgressStyleModel",
     "state": {
      "_model_module": "@jupyter-widgets/controls",
      "_model_module_version": "1.5.0",
      "_model_name": "ProgressStyleModel",
      "_view_count": null,
      "_view_module": "@jupyter-widgets/base",
      "_view_module_version": "1.2.0",
      "_view_name": "StyleView",
      "bar_color": null,
      "description_width": ""
     }
    },
    "ec5fe8352cde4cb28057c7211dbac446": {
     "model_module": "@jupyter-widgets/controls",
     "model_module_version": "1.5.0",
     "model_name": "ProgressStyleModel",
     "state": {
      "_model_module": "@jupyter-widgets/controls",
      "_model_module_version": "1.5.0",
      "_model_name": "ProgressStyleModel",
      "_view_count": null,
      "_view_module": "@jupyter-widgets/base",
      "_view_module_version": "1.2.0",
      "_view_name": "StyleView",
      "bar_color": null,
      "description_width": ""
     }
    },
    "ee0ab14389904c1385fda6770a80fafc": {
     "model_module": "@jupyter-widgets/base",
     "model_module_version": "1.2.0",
     "model_name": "LayoutModel",
     "state": {
      "_model_module": "@jupyter-widgets/base",
      "_model_module_version": "1.2.0",
      "_model_name": "LayoutModel",
      "_view_count": null,
      "_view_module": "@jupyter-widgets/base",
      "_view_module_version": "1.2.0",
      "_view_name": "LayoutView",
      "align_content": null,
      "align_items": null,
      "align_self": null,
      "border": null,
      "bottom": null,
      "display": "inline-flex",
      "flex": null,
      "flex_flow": "row wrap",
      "grid_area": null,
      "grid_auto_columns": null,
      "grid_auto_flow": null,
      "grid_auto_rows": null,
      "grid_column": null,
      "grid_gap": null,
      "grid_row": null,
      "grid_template_areas": null,
      "grid_template_columns": null,
      "grid_template_rows": null,
      "height": null,
      "justify_content": null,
      "justify_items": null,
      "left": null,
      "margin": null,
      "max_height": null,
      "max_width": null,
      "min_height": null,
      "min_width": null,
      "object_fit": null,
      "object_position": null,
      "order": null,
      "overflow": null,
      "overflow_x": null,
      "overflow_y": null,
      "padding": null,
      "right": null,
      "top": null,
      "visibility": null,
      "width": "100%"
     }
    },
    "f0ce617f84204530908a30806bf830ca": {
     "model_module": "@jupyter-widgets/controls",
     "model_module_version": "1.5.0",
     "model_name": "DescriptionStyleModel",
     "state": {
      "_model_module": "@jupyter-widgets/controls",
      "_model_module_version": "1.5.0",
      "_model_name": "DescriptionStyleModel",
      "_view_count": null,
      "_view_module": "@jupyter-widgets/base",
      "_view_module_version": "1.2.0",
      "_view_name": "StyleView",
      "description_width": ""
     }
    }
   }
  }
 },
 "nbformat": 4,
 "nbformat_minor": 4
}
